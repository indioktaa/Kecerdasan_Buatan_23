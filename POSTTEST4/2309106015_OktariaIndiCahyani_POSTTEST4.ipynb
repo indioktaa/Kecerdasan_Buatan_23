{
  "nbformat": 4,
  "nbformat_minor": 0,
  "metadata": {
    "colab": {
      "provenance": []
    },
    "kernelspec": {
      "name": "python3",
      "display_name": "Python 3"
    },
    "language_info": {
      "name": "python"
    }
  },
  "cells": [
    {
      "cell_type": "code",
      "execution_count": null,
      "metadata": {
        "id": "LTWwrZUeczXU"
      },
      "outputs": [],
      "source": [
        "import pandas as pd\n",
        "import matplotlib.pyplot as plt\n",
        "import seaborn as sns\n",
        "\n",
        "df = pd.read_csv('sales_data.csv')"
      ]
    },
    {
      "cell_type": "code",
      "source": [
        "# 1. Tampilkan rata-rata, standar deviasi, nilai minimum, nilai maksimum, Q1, Q2, dan Q3 dari attribute bertipe angka.\n",
        "angka = df.select_dtypes(include='number')\n",
        "statistik = angka.describe(percentiles=[0.25, 0.5, 0.75]).T\n",
        "statistik"
      ],
      "metadata": {
        "id": "tr8Ju1CweRGR",
        "colab": {
          "base_uri": "https://localhost:8080/",
          "height": 125
        },
        "outputId": "55b49971-75ac-4822-e4a0-2ac5a793703f"
      },
      "execution_count": null,
      "outputs": [
        {
          "output_type": "execute_result",
          "data": {
            "text/plain": [
              "                    count     mean       std  min  25%  50%  75%  max\n",
              "Jumlah            50000.0  2.68070  1.441093  1.0  2.0  3.0  4.0  9.0\n",
              "Tingkat Kepuasan  50000.0  2.99948  1.414001  1.0  2.0  3.0  4.0  5.0"
            ],
            "text/html": [
              "\n",
              "  <div id=\"df-2af5468b-daeb-48e7-9ae4-fa1333c67827\" class=\"colab-df-container\">\n",
              "    <div>\n",
              "<style scoped>\n",
              "    .dataframe tbody tr th:only-of-type {\n",
              "        vertical-align: middle;\n",
              "    }\n",
              "\n",
              "    .dataframe tbody tr th {\n",
              "        vertical-align: top;\n",
              "    }\n",
              "\n",
              "    .dataframe thead th {\n",
              "        text-align: right;\n",
              "    }\n",
              "</style>\n",
              "<table border=\"1\" class=\"dataframe\">\n",
              "  <thead>\n",
              "    <tr style=\"text-align: right;\">\n",
              "      <th></th>\n",
              "      <th>count</th>\n",
              "      <th>mean</th>\n",
              "      <th>std</th>\n",
              "      <th>min</th>\n",
              "      <th>25%</th>\n",
              "      <th>50%</th>\n",
              "      <th>75%</th>\n",
              "      <th>max</th>\n",
              "    </tr>\n",
              "  </thead>\n",
              "  <tbody>\n",
              "    <tr>\n",
              "      <th>Jumlah</th>\n",
              "      <td>50000.0</td>\n",
              "      <td>2.68070</td>\n",
              "      <td>1.441093</td>\n",
              "      <td>1.0</td>\n",
              "      <td>2.0</td>\n",
              "      <td>3.0</td>\n",
              "      <td>4.0</td>\n",
              "      <td>9.0</td>\n",
              "    </tr>\n",
              "    <tr>\n",
              "      <th>Tingkat Kepuasan</th>\n",
              "      <td>50000.0</td>\n",
              "      <td>2.99948</td>\n",
              "      <td>1.414001</td>\n",
              "      <td>1.0</td>\n",
              "      <td>2.0</td>\n",
              "      <td>3.0</td>\n",
              "      <td>4.0</td>\n",
              "      <td>5.0</td>\n",
              "    </tr>\n",
              "  </tbody>\n",
              "</table>\n",
              "</div>\n",
              "    <div class=\"colab-df-buttons\">\n",
              "\n",
              "  <div class=\"colab-df-container\">\n",
              "    <button class=\"colab-df-convert\" onclick=\"convertToInteractive('df-2af5468b-daeb-48e7-9ae4-fa1333c67827')\"\n",
              "            title=\"Convert this dataframe to an interactive table.\"\n",
              "            style=\"display:none;\">\n",
              "\n",
              "  <svg xmlns=\"http://www.w3.org/2000/svg\" height=\"24px\" viewBox=\"0 -960 960 960\">\n",
              "    <path d=\"M120-120v-720h720v720H120Zm60-500h600v-160H180v160Zm220 220h160v-160H400v160Zm0 220h160v-160H400v160ZM180-400h160v-160H180v160Zm440 0h160v-160H620v160ZM180-180h160v-160H180v160Zm440 0h160v-160H620v160Z\"/>\n",
              "  </svg>\n",
              "    </button>\n",
              "\n",
              "  <style>\n",
              "    .colab-df-container {\n",
              "      display:flex;\n",
              "      gap: 12px;\n",
              "    }\n",
              "\n",
              "    .colab-df-convert {\n",
              "      background-color: #E8F0FE;\n",
              "      border: none;\n",
              "      border-radius: 50%;\n",
              "      cursor: pointer;\n",
              "      display: none;\n",
              "      fill: #1967D2;\n",
              "      height: 32px;\n",
              "      padding: 0 0 0 0;\n",
              "      width: 32px;\n",
              "    }\n",
              "\n",
              "    .colab-df-convert:hover {\n",
              "      background-color: #E2EBFA;\n",
              "      box-shadow: 0px 1px 2px rgba(60, 64, 67, 0.3), 0px 1px 3px 1px rgba(60, 64, 67, 0.15);\n",
              "      fill: #174EA6;\n",
              "    }\n",
              "\n",
              "    .colab-df-buttons div {\n",
              "      margin-bottom: 4px;\n",
              "    }\n",
              "\n",
              "    [theme=dark] .colab-df-convert {\n",
              "      background-color: #3B4455;\n",
              "      fill: #D2E3FC;\n",
              "    }\n",
              "\n",
              "    [theme=dark] .colab-df-convert:hover {\n",
              "      background-color: #434B5C;\n",
              "      box-shadow: 0px 1px 3px 1px rgba(0, 0, 0, 0.15);\n",
              "      filter: drop-shadow(0px 1px 2px rgba(0, 0, 0, 0.3));\n",
              "      fill: #FFFFFF;\n",
              "    }\n",
              "  </style>\n",
              "\n",
              "    <script>\n",
              "      const buttonEl =\n",
              "        document.querySelector('#df-2af5468b-daeb-48e7-9ae4-fa1333c67827 button.colab-df-convert');\n",
              "      buttonEl.style.display =\n",
              "        google.colab.kernel.accessAllowed ? 'block' : 'none';\n",
              "\n",
              "      async function convertToInteractive(key) {\n",
              "        const element = document.querySelector('#df-2af5468b-daeb-48e7-9ae4-fa1333c67827');\n",
              "        const dataTable =\n",
              "          await google.colab.kernel.invokeFunction('convertToInteractive',\n",
              "                                                    [key], {});\n",
              "        if (!dataTable) return;\n",
              "\n",
              "        const docLinkHtml = 'Like what you see? Visit the ' +\n",
              "          '<a target=\"_blank\" href=https://colab.research.google.com/notebooks/data_table.ipynb>data table notebook</a>'\n",
              "          + ' to learn more about interactive tables.';\n",
              "        element.innerHTML = '';\n",
              "        dataTable['output_type'] = 'display_data';\n",
              "        await google.colab.output.renderOutput(dataTable, element);\n",
              "        const docLink = document.createElement('div');\n",
              "        docLink.innerHTML = docLinkHtml;\n",
              "        element.appendChild(docLink);\n",
              "      }\n",
              "    </script>\n",
              "  </div>\n",
              "\n",
              "\n",
              "    <div id=\"df-47b5e62b-1567-437f-9614-aba1cf73d285\">\n",
              "      <button class=\"colab-df-quickchart\" onclick=\"quickchart('df-47b5e62b-1567-437f-9614-aba1cf73d285')\"\n",
              "                title=\"Suggest charts\"\n",
              "                style=\"display:none;\">\n",
              "\n",
              "<svg xmlns=\"http://www.w3.org/2000/svg\" height=\"24px\"viewBox=\"0 0 24 24\"\n",
              "     width=\"24px\">\n",
              "    <g>\n",
              "        <path d=\"M19 3H5c-1.1 0-2 .9-2 2v14c0 1.1.9 2 2 2h14c1.1 0 2-.9 2-2V5c0-1.1-.9-2-2-2zM9 17H7v-7h2v7zm4 0h-2V7h2v10zm4 0h-2v-4h2v4z\"/>\n",
              "    </g>\n",
              "</svg>\n",
              "      </button>\n",
              "\n",
              "<style>\n",
              "  .colab-df-quickchart {\n",
              "      --bg-color: #E8F0FE;\n",
              "      --fill-color: #1967D2;\n",
              "      --hover-bg-color: #E2EBFA;\n",
              "      --hover-fill-color: #174EA6;\n",
              "      --disabled-fill-color: #AAA;\n",
              "      --disabled-bg-color: #DDD;\n",
              "  }\n",
              "\n",
              "  [theme=dark] .colab-df-quickchart {\n",
              "      --bg-color: #3B4455;\n",
              "      --fill-color: #D2E3FC;\n",
              "      --hover-bg-color: #434B5C;\n",
              "      --hover-fill-color: #FFFFFF;\n",
              "      --disabled-bg-color: #3B4455;\n",
              "      --disabled-fill-color: #666;\n",
              "  }\n",
              "\n",
              "  .colab-df-quickchart {\n",
              "    background-color: var(--bg-color);\n",
              "    border: none;\n",
              "    border-radius: 50%;\n",
              "    cursor: pointer;\n",
              "    display: none;\n",
              "    fill: var(--fill-color);\n",
              "    height: 32px;\n",
              "    padding: 0;\n",
              "    width: 32px;\n",
              "  }\n",
              "\n",
              "  .colab-df-quickchart:hover {\n",
              "    background-color: var(--hover-bg-color);\n",
              "    box-shadow: 0 1px 2px rgba(60, 64, 67, 0.3), 0 1px 3px 1px rgba(60, 64, 67, 0.15);\n",
              "    fill: var(--button-hover-fill-color);\n",
              "  }\n",
              "\n",
              "  .colab-df-quickchart-complete:disabled,\n",
              "  .colab-df-quickchart-complete:disabled:hover {\n",
              "    background-color: var(--disabled-bg-color);\n",
              "    fill: var(--disabled-fill-color);\n",
              "    box-shadow: none;\n",
              "  }\n",
              "\n",
              "  .colab-df-spinner {\n",
              "    border: 2px solid var(--fill-color);\n",
              "    border-color: transparent;\n",
              "    border-bottom-color: var(--fill-color);\n",
              "    animation:\n",
              "      spin 1s steps(1) infinite;\n",
              "  }\n",
              "\n",
              "  @keyframes spin {\n",
              "    0% {\n",
              "      border-color: transparent;\n",
              "      border-bottom-color: var(--fill-color);\n",
              "      border-left-color: var(--fill-color);\n",
              "    }\n",
              "    20% {\n",
              "      border-color: transparent;\n",
              "      border-left-color: var(--fill-color);\n",
              "      border-top-color: var(--fill-color);\n",
              "    }\n",
              "    30% {\n",
              "      border-color: transparent;\n",
              "      border-left-color: var(--fill-color);\n",
              "      border-top-color: var(--fill-color);\n",
              "      border-right-color: var(--fill-color);\n",
              "    }\n",
              "    40% {\n",
              "      border-color: transparent;\n",
              "      border-right-color: var(--fill-color);\n",
              "      border-top-color: var(--fill-color);\n",
              "    }\n",
              "    60% {\n",
              "      border-color: transparent;\n",
              "      border-right-color: var(--fill-color);\n",
              "    }\n",
              "    80% {\n",
              "      border-color: transparent;\n",
              "      border-right-color: var(--fill-color);\n",
              "      border-bottom-color: var(--fill-color);\n",
              "    }\n",
              "    90% {\n",
              "      border-color: transparent;\n",
              "      border-bottom-color: var(--fill-color);\n",
              "    }\n",
              "  }\n",
              "</style>\n",
              "\n",
              "      <script>\n",
              "        async function quickchart(key) {\n",
              "          const quickchartButtonEl =\n",
              "            document.querySelector('#' + key + ' button');\n",
              "          quickchartButtonEl.disabled = true;  // To prevent multiple clicks.\n",
              "          quickchartButtonEl.classList.add('colab-df-spinner');\n",
              "          try {\n",
              "            const charts = await google.colab.kernel.invokeFunction(\n",
              "                'suggestCharts', [key], {});\n",
              "          } catch (error) {\n",
              "            console.error('Error during call to suggestCharts:', error);\n",
              "          }\n",
              "          quickchartButtonEl.classList.remove('colab-df-spinner');\n",
              "          quickchartButtonEl.classList.add('colab-df-quickchart-complete');\n",
              "        }\n",
              "        (() => {\n",
              "          let quickchartButtonEl =\n",
              "            document.querySelector('#df-47b5e62b-1567-437f-9614-aba1cf73d285 button');\n",
              "          quickchartButtonEl.style.display =\n",
              "            google.colab.kernel.accessAllowed ? 'block' : 'none';\n",
              "        })();\n",
              "      </script>\n",
              "    </div>\n",
              "\n",
              "  <div id=\"id_07bedccd-ad5b-4cc0-9a15-768cd67dbee3\">\n",
              "    <style>\n",
              "      .colab-df-generate {\n",
              "        background-color: #E8F0FE;\n",
              "        border: none;\n",
              "        border-radius: 50%;\n",
              "        cursor: pointer;\n",
              "        display: none;\n",
              "        fill: #1967D2;\n",
              "        height: 32px;\n",
              "        padding: 0 0 0 0;\n",
              "        width: 32px;\n",
              "      }\n",
              "\n",
              "      .colab-df-generate:hover {\n",
              "        background-color: #E2EBFA;\n",
              "        box-shadow: 0px 1px 2px rgba(60, 64, 67, 0.3), 0px 1px 3px 1px rgba(60, 64, 67, 0.15);\n",
              "        fill: #174EA6;\n",
              "      }\n",
              "\n",
              "      [theme=dark] .colab-df-generate {\n",
              "        background-color: #3B4455;\n",
              "        fill: #D2E3FC;\n",
              "      }\n",
              "\n",
              "      [theme=dark] .colab-df-generate:hover {\n",
              "        background-color: #434B5C;\n",
              "        box-shadow: 0px 1px 3px 1px rgba(0, 0, 0, 0.15);\n",
              "        filter: drop-shadow(0px 1px 2px rgba(0, 0, 0, 0.3));\n",
              "        fill: #FFFFFF;\n",
              "      }\n",
              "    </style>\n",
              "    <button class=\"colab-df-generate\" onclick=\"generateWithVariable('statistik')\"\n",
              "            title=\"Generate code using this dataframe.\"\n",
              "            style=\"display:none;\">\n",
              "\n",
              "  <svg xmlns=\"http://www.w3.org/2000/svg\" height=\"24px\"viewBox=\"0 0 24 24\"\n",
              "       width=\"24px\">\n",
              "    <path d=\"M7,19H8.4L18.45,9,17,7.55,7,17.6ZM5,21V16.75L18.45,3.32a2,2,0,0,1,2.83,0l1.4,1.43a1.91,1.91,0,0,1,.58,1.4,1.91,1.91,0,0,1-.58,1.4L9.25,21ZM18.45,9,17,7.55Zm-12,3A5.31,5.31,0,0,0,4.9,8.1,5.31,5.31,0,0,0,1,6.5,5.31,5.31,0,0,0,4.9,4.9,5.31,5.31,0,0,0,6.5,1,5.31,5.31,0,0,0,8.1,4.9,5.31,5.31,0,0,0,12,6.5,5.46,5.46,0,0,0,6.5,12Z\"/>\n",
              "  </svg>\n",
              "    </button>\n",
              "    <script>\n",
              "      (() => {\n",
              "      const buttonEl =\n",
              "        document.querySelector('#id_07bedccd-ad5b-4cc0-9a15-768cd67dbee3 button.colab-df-generate');\n",
              "      buttonEl.style.display =\n",
              "        google.colab.kernel.accessAllowed ? 'block' : 'none';\n",
              "\n",
              "      buttonEl.onclick = () => {\n",
              "        google.colab.notebook.generateWithVariable('statistik');\n",
              "      }\n",
              "      })();\n",
              "    </script>\n",
              "  </div>\n",
              "\n",
              "    </div>\n",
              "  </div>\n"
            ],
            "application/vnd.google.colaboratory.intrinsic+json": {
              "type": "dataframe",
              "variable_name": "statistik",
              "summary": "{\n  \"name\": \"statistik\",\n  \"rows\": 2,\n  \"fields\": [\n    {\n      \"column\": \"count\",\n      \"properties\": {\n        \"dtype\": \"number\",\n        \"std\": 0.0,\n        \"min\": 50000.0,\n        \"max\": 50000.0,\n        \"num_unique_values\": 1,\n        \"samples\": [\n          50000.0\n        ],\n        \"semantic_type\": \"\",\n        \"description\": \"\"\n      }\n    },\n    {\n      \"column\": \"mean\",\n      \"properties\": {\n        \"dtype\": \"number\",\n        \"std\": 0.22541149970664784,\n        \"min\": 2.6807,\n        \"max\": 2.99948,\n        \"num_unique_values\": 2,\n        \"samples\": [\n          2.99948\n        ],\n        \"semantic_type\": \"\",\n        \"description\": \"\"\n      }\n    },\n    {\n      \"column\": \"std\",\n      \"properties\": {\n        \"dtype\": \"number\",\n        \"std\": 0.01915671701896045,\n        \"min\": 1.414001314566009,\n        \"max\": 1.4410930035847664,\n        \"num_unique_values\": 2,\n        \"samples\": [\n          1.414001314566009\n        ],\n        \"semantic_type\": \"\",\n        \"description\": \"\"\n      }\n    },\n    {\n      \"column\": \"min\",\n      \"properties\": {\n        \"dtype\": \"number\",\n        \"std\": 0.0,\n        \"min\": 1.0,\n        \"max\": 1.0,\n        \"num_unique_values\": 1,\n        \"samples\": [\n          1.0\n        ],\n        \"semantic_type\": \"\",\n        \"description\": \"\"\n      }\n    },\n    {\n      \"column\": \"25%\",\n      \"properties\": {\n        \"dtype\": \"number\",\n        \"std\": 0.0,\n        \"min\": 2.0,\n        \"max\": 2.0,\n        \"num_unique_values\": 1,\n        \"samples\": [\n          2.0\n        ],\n        \"semantic_type\": \"\",\n        \"description\": \"\"\n      }\n    },\n    {\n      \"column\": \"50%\",\n      \"properties\": {\n        \"dtype\": \"number\",\n        \"std\": 0.0,\n        \"min\": 3.0,\n        \"max\": 3.0,\n        \"num_unique_values\": 1,\n        \"samples\": [\n          3.0\n        ],\n        \"semantic_type\": \"\",\n        \"description\": \"\"\n      }\n    },\n    {\n      \"column\": \"75%\",\n      \"properties\": {\n        \"dtype\": \"number\",\n        \"std\": 0.0,\n        \"min\": 4.0,\n        \"max\": 4.0,\n        \"num_unique_values\": 1,\n        \"samples\": [\n          4.0\n        ],\n        \"semantic_type\": \"\",\n        \"description\": \"\"\n      }\n    },\n    {\n      \"column\": \"max\",\n      \"properties\": {\n        \"dtype\": \"number\",\n        \"std\": 2.8284271247461903,\n        \"min\": 5.0,\n        \"max\": 9.0,\n        \"num_unique_values\": 2,\n        \"samples\": [\n          5.0\n        ],\n        \"semantic_type\": \"\",\n        \"description\": \"\"\n      }\n    }\n  ]\n}"
            }
          },
          "metadata": {},
          "execution_count": 2
        }
      ]
    },
    {
      "cell_type": "markdown",
      "source": [
        "Tabel ini memberikan ringkasan statistik untuk dua kolom numerik dalam dataset Anda: \"Jumlah\" dan \"Tingkat Kepuasan\"."
      ],
      "metadata": {
        "id": "82MM-Xw0KJBq"
      }
    },
    {
      "cell_type": "code",
      "source": [
        "# 2. Tampilkan 10 record pertama dari dataset dengan attribute bertipe angka.\n",
        "df_head = df.select_dtypes(include='number').head(10)\n",
        "df_head"
      ],
      "metadata": {
        "id": "N0SMcERUKOYh",
        "colab": {
          "base_uri": "https://localhost:8080/",
          "height": 363
        },
        "outputId": "7b68cf5a-4d67-48d6-fdab-d7ec08b0d066"
      },
      "execution_count": null,
      "outputs": [
        {
          "output_type": "execute_result",
          "data": {
            "text/plain": [
              "   Jumlah  Tingkat Kepuasan\n",
              "0       2                 1\n",
              "1       2                 3\n",
              "2       1                 4\n",
              "3       3                 3\n",
              "4       1                 4\n",
              "5       2                 3\n",
              "6       1                 2\n",
              "7       3                 1\n",
              "8       4                 5\n",
              "9       2                 4"
            ],
            "text/html": [
              "\n",
              "  <div id=\"df-0fa8b8a7-9d2c-4ceb-b9e6-f4f74ab088dc\" class=\"colab-df-container\">\n",
              "    <div>\n",
              "<style scoped>\n",
              "    .dataframe tbody tr th:only-of-type {\n",
              "        vertical-align: middle;\n",
              "    }\n",
              "\n",
              "    .dataframe tbody tr th {\n",
              "        vertical-align: top;\n",
              "    }\n",
              "\n",
              "    .dataframe thead th {\n",
              "        text-align: right;\n",
              "    }\n",
              "</style>\n",
              "<table border=\"1\" class=\"dataframe\">\n",
              "  <thead>\n",
              "    <tr style=\"text-align: right;\">\n",
              "      <th></th>\n",
              "      <th>Jumlah</th>\n",
              "      <th>Tingkat Kepuasan</th>\n",
              "    </tr>\n",
              "  </thead>\n",
              "  <tbody>\n",
              "    <tr>\n",
              "      <th>0</th>\n",
              "      <td>2</td>\n",
              "      <td>1</td>\n",
              "    </tr>\n",
              "    <tr>\n",
              "      <th>1</th>\n",
              "      <td>2</td>\n",
              "      <td>3</td>\n",
              "    </tr>\n",
              "    <tr>\n",
              "      <th>2</th>\n",
              "      <td>1</td>\n",
              "      <td>4</td>\n",
              "    </tr>\n",
              "    <tr>\n",
              "      <th>3</th>\n",
              "      <td>3</td>\n",
              "      <td>3</td>\n",
              "    </tr>\n",
              "    <tr>\n",
              "      <th>4</th>\n",
              "      <td>1</td>\n",
              "      <td>4</td>\n",
              "    </tr>\n",
              "    <tr>\n",
              "      <th>5</th>\n",
              "      <td>2</td>\n",
              "      <td>3</td>\n",
              "    </tr>\n",
              "    <tr>\n",
              "      <th>6</th>\n",
              "      <td>1</td>\n",
              "      <td>2</td>\n",
              "    </tr>\n",
              "    <tr>\n",
              "      <th>7</th>\n",
              "      <td>3</td>\n",
              "      <td>1</td>\n",
              "    </tr>\n",
              "    <tr>\n",
              "      <th>8</th>\n",
              "      <td>4</td>\n",
              "      <td>5</td>\n",
              "    </tr>\n",
              "    <tr>\n",
              "      <th>9</th>\n",
              "      <td>2</td>\n",
              "      <td>4</td>\n",
              "    </tr>\n",
              "  </tbody>\n",
              "</table>\n",
              "</div>\n",
              "    <div class=\"colab-df-buttons\">\n",
              "\n",
              "  <div class=\"colab-df-container\">\n",
              "    <button class=\"colab-df-convert\" onclick=\"convertToInteractive('df-0fa8b8a7-9d2c-4ceb-b9e6-f4f74ab088dc')\"\n",
              "            title=\"Convert this dataframe to an interactive table.\"\n",
              "            style=\"display:none;\">\n",
              "\n",
              "  <svg xmlns=\"http://www.w3.org/2000/svg\" height=\"24px\" viewBox=\"0 -960 960 960\">\n",
              "    <path d=\"M120-120v-720h720v720H120Zm60-500h600v-160H180v160Zm220 220h160v-160H400v160Zm0 220h160v-160H400v160ZM180-400h160v-160H180v160Zm440 0h160v-160H620v160ZM180-180h160v-160H180v160Zm440 0h160v-160H620v160Z\"/>\n",
              "  </svg>\n",
              "    </button>\n",
              "\n",
              "  <style>\n",
              "    .colab-df-container {\n",
              "      display:flex;\n",
              "      gap: 12px;\n",
              "    }\n",
              "\n",
              "    .colab-df-convert {\n",
              "      background-color: #E8F0FE;\n",
              "      border: none;\n",
              "      border-radius: 50%;\n",
              "      cursor: pointer;\n",
              "      display: none;\n",
              "      fill: #1967D2;\n",
              "      height: 32px;\n",
              "      padding: 0 0 0 0;\n",
              "      width: 32px;\n",
              "    }\n",
              "\n",
              "    .colab-df-convert:hover {\n",
              "      background-color: #E2EBFA;\n",
              "      box-shadow: 0px 1px 2px rgba(60, 64, 67, 0.3), 0px 1px 3px 1px rgba(60, 64, 67, 0.15);\n",
              "      fill: #174EA6;\n",
              "    }\n",
              "\n",
              "    .colab-df-buttons div {\n",
              "      margin-bottom: 4px;\n",
              "    }\n",
              "\n",
              "    [theme=dark] .colab-df-convert {\n",
              "      background-color: #3B4455;\n",
              "      fill: #D2E3FC;\n",
              "    }\n",
              "\n",
              "    [theme=dark] .colab-df-convert:hover {\n",
              "      background-color: #434B5C;\n",
              "      box-shadow: 0px 1px 3px 1px rgba(0, 0, 0, 0.15);\n",
              "      filter: drop-shadow(0px 1px 2px rgba(0, 0, 0, 0.3));\n",
              "      fill: #FFFFFF;\n",
              "    }\n",
              "  </style>\n",
              "\n",
              "    <script>\n",
              "      const buttonEl =\n",
              "        document.querySelector('#df-0fa8b8a7-9d2c-4ceb-b9e6-f4f74ab088dc button.colab-df-convert');\n",
              "      buttonEl.style.display =\n",
              "        google.colab.kernel.accessAllowed ? 'block' : 'none';\n",
              "\n",
              "      async function convertToInteractive(key) {\n",
              "        const element = document.querySelector('#df-0fa8b8a7-9d2c-4ceb-b9e6-f4f74ab088dc');\n",
              "        const dataTable =\n",
              "          await google.colab.kernel.invokeFunction('convertToInteractive',\n",
              "                                                    [key], {});\n",
              "        if (!dataTable) return;\n",
              "\n",
              "        const docLinkHtml = 'Like what you see? Visit the ' +\n",
              "          '<a target=\"_blank\" href=https://colab.research.google.com/notebooks/data_table.ipynb>data table notebook</a>'\n",
              "          + ' to learn more about interactive tables.';\n",
              "        element.innerHTML = '';\n",
              "        dataTable['output_type'] = 'display_data';\n",
              "        await google.colab.output.renderOutput(dataTable, element);\n",
              "        const docLink = document.createElement('div');\n",
              "        docLink.innerHTML = docLinkHtml;\n",
              "        element.appendChild(docLink);\n",
              "      }\n",
              "    </script>\n",
              "  </div>\n",
              "\n",
              "\n",
              "    <div id=\"df-353c4e21-bf4f-4d3e-a71c-6c0adeec7044\">\n",
              "      <button class=\"colab-df-quickchart\" onclick=\"quickchart('df-353c4e21-bf4f-4d3e-a71c-6c0adeec7044')\"\n",
              "                title=\"Suggest charts\"\n",
              "                style=\"display:none;\">\n",
              "\n",
              "<svg xmlns=\"http://www.w3.org/2000/svg\" height=\"24px\"viewBox=\"0 0 24 24\"\n",
              "     width=\"24px\">\n",
              "    <g>\n",
              "        <path d=\"M19 3H5c-1.1 0-2 .9-2 2v14c0 1.1.9 2 2 2h14c1.1 0 2-.9 2-2V5c0-1.1-.9-2-2-2zM9 17H7v-7h2v7zm4 0h-2V7h2v10zm4 0h-2v-4h2v4z\"/>\n",
              "    </g>\n",
              "</svg>\n",
              "      </button>\n",
              "\n",
              "<style>\n",
              "  .colab-df-quickchart {\n",
              "      --bg-color: #E8F0FE;\n",
              "      --fill-color: #1967D2;\n",
              "      --hover-bg-color: #E2EBFA;\n",
              "      --hover-fill-color: #174EA6;\n",
              "      --disabled-fill-color: #AAA;\n",
              "      --disabled-bg-color: #DDD;\n",
              "  }\n",
              "\n",
              "  [theme=dark] .colab-df-quickchart {\n",
              "      --bg-color: #3B4455;\n",
              "      --fill-color: #D2E3FC;\n",
              "      --hover-bg-color: #434B5C;\n",
              "      --hover-fill-color: #FFFFFF;\n",
              "      --disabled-bg-color: #3B4455;\n",
              "      --disabled-fill-color: #666;\n",
              "  }\n",
              "\n",
              "  .colab-df-quickchart {\n",
              "    background-color: var(--bg-color);\n",
              "    border: none;\n",
              "    border-radius: 50%;\n",
              "    cursor: pointer;\n",
              "    display: none;\n",
              "    fill: var(--fill-color);\n",
              "    height: 32px;\n",
              "    padding: 0;\n",
              "    width: 32px;\n",
              "  }\n",
              "\n",
              "  .colab-df-quickchart:hover {\n",
              "    background-color: var(--hover-bg-color);\n",
              "    box-shadow: 0 1px 2px rgba(60, 64, 67, 0.3), 0 1px 3px 1px rgba(60, 64, 67, 0.15);\n",
              "    fill: var(--button-hover-fill-color);\n",
              "  }\n",
              "\n",
              "  .colab-df-quickchart-complete:disabled,\n",
              "  .colab-df-quickchart-complete:disabled:hover {\n",
              "    background-color: var(--disabled-bg-color);\n",
              "    fill: var(--disabled-fill-color);\n",
              "    box-shadow: none;\n",
              "  }\n",
              "\n",
              "  .colab-df-spinner {\n",
              "    border: 2px solid var(--fill-color);\n",
              "    border-color: transparent;\n",
              "    border-bottom-color: var(--fill-color);\n",
              "    animation:\n",
              "      spin 1s steps(1) infinite;\n",
              "  }\n",
              "\n",
              "  @keyframes spin {\n",
              "    0% {\n",
              "      border-color: transparent;\n",
              "      border-bottom-color: var(--fill-color);\n",
              "      border-left-color: var(--fill-color);\n",
              "    }\n",
              "    20% {\n",
              "      border-color: transparent;\n",
              "      border-left-color: var(--fill-color);\n",
              "      border-top-color: var(--fill-color);\n",
              "    }\n",
              "    30% {\n",
              "      border-color: transparent;\n",
              "      border-left-color: var(--fill-color);\n",
              "      border-top-color: var(--fill-color);\n",
              "      border-right-color: var(--fill-color);\n",
              "    }\n",
              "    40% {\n",
              "      border-color: transparent;\n",
              "      border-right-color: var(--fill-color);\n",
              "      border-top-color: var(--fill-color);\n",
              "    }\n",
              "    60% {\n",
              "      border-color: transparent;\n",
              "      border-right-color: var(--fill-color);\n",
              "    }\n",
              "    80% {\n",
              "      border-color: transparent;\n",
              "      border-right-color: var(--fill-color);\n",
              "      border-bottom-color: var(--fill-color);\n",
              "    }\n",
              "    90% {\n",
              "      border-color: transparent;\n",
              "      border-bottom-color: var(--fill-color);\n",
              "    }\n",
              "  }\n",
              "</style>\n",
              "\n",
              "      <script>\n",
              "        async function quickchart(key) {\n",
              "          const quickchartButtonEl =\n",
              "            document.querySelector('#' + key + ' button');\n",
              "          quickchartButtonEl.disabled = true;  // To prevent multiple clicks.\n",
              "          quickchartButtonEl.classList.add('colab-df-spinner');\n",
              "          try {\n",
              "            const charts = await google.colab.kernel.invokeFunction(\n",
              "                'suggestCharts', [key], {});\n",
              "          } catch (error) {\n",
              "            console.error('Error during call to suggestCharts:', error);\n",
              "          }\n",
              "          quickchartButtonEl.classList.remove('colab-df-spinner');\n",
              "          quickchartButtonEl.classList.add('colab-df-quickchart-complete');\n",
              "        }\n",
              "        (() => {\n",
              "          let quickchartButtonEl =\n",
              "            document.querySelector('#df-353c4e21-bf4f-4d3e-a71c-6c0adeec7044 button');\n",
              "          quickchartButtonEl.style.display =\n",
              "            google.colab.kernel.accessAllowed ? 'block' : 'none';\n",
              "        })();\n",
              "      </script>\n",
              "    </div>\n",
              "\n",
              "  <div id=\"id_d74a3769-0252-4889-bfa1-f9d4ea6efc16\">\n",
              "    <style>\n",
              "      .colab-df-generate {\n",
              "        background-color: #E8F0FE;\n",
              "        border: none;\n",
              "        border-radius: 50%;\n",
              "        cursor: pointer;\n",
              "        display: none;\n",
              "        fill: #1967D2;\n",
              "        height: 32px;\n",
              "        padding: 0 0 0 0;\n",
              "        width: 32px;\n",
              "      }\n",
              "\n",
              "      .colab-df-generate:hover {\n",
              "        background-color: #E2EBFA;\n",
              "        box-shadow: 0px 1px 2px rgba(60, 64, 67, 0.3), 0px 1px 3px 1px rgba(60, 64, 67, 0.15);\n",
              "        fill: #174EA6;\n",
              "      }\n",
              "\n",
              "      [theme=dark] .colab-df-generate {\n",
              "        background-color: #3B4455;\n",
              "        fill: #D2E3FC;\n",
              "      }\n",
              "\n",
              "      [theme=dark] .colab-df-generate:hover {\n",
              "        background-color: #434B5C;\n",
              "        box-shadow: 0px 1px 3px 1px rgba(0, 0, 0, 0.15);\n",
              "        filter: drop-shadow(0px 1px 2px rgba(0, 0, 0, 0.3));\n",
              "        fill: #FFFFFF;\n",
              "      }\n",
              "    </style>\n",
              "    <button class=\"colab-df-generate\" onclick=\"generateWithVariable('df_head')\"\n",
              "            title=\"Generate code using this dataframe.\"\n",
              "            style=\"display:none;\">\n",
              "\n",
              "  <svg xmlns=\"http://www.w3.org/2000/svg\" height=\"24px\"viewBox=\"0 0 24 24\"\n",
              "       width=\"24px\">\n",
              "    <path d=\"M7,19H8.4L18.45,9,17,7.55,7,17.6ZM5,21V16.75L18.45,3.32a2,2,0,0,1,2.83,0l1.4,1.43a1.91,1.91,0,0,1,.58,1.4,1.91,1.91,0,0,1-.58,1.4L9.25,21ZM18.45,9,17,7.55Zm-12,3A5.31,5.31,0,0,0,4.9,8.1,5.31,5.31,0,0,0,1,6.5,5.31,5.31,0,0,0,4.9,4.9,5.31,5.31,0,0,0,6.5,1,5.31,5.31,0,0,0,8.1,4.9,5.31,5.31,0,0,0,12,6.5,5.46,5.46,0,0,0,6.5,12Z\"/>\n",
              "  </svg>\n",
              "    </button>\n",
              "    <script>\n",
              "      (() => {\n",
              "      const buttonEl =\n",
              "        document.querySelector('#id_d74a3769-0252-4889-bfa1-f9d4ea6efc16 button.colab-df-generate');\n",
              "      buttonEl.style.display =\n",
              "        google.colab.kernel.accessAllowed ? 'block' : 'none';\n",
              "\n",
              "      buttonEl.onclick = () => {\n",
              "        google.colab.notebook.generateWithVariable('df_head');\n",
              "      }\n",
              "      })();\n",
              "    </script>\n",
              "  </div>\n",
              "\n",
              "    </div>\n",
              "  </div>\n"
            ],
            "application/vnd.google.colaboratory.intrinsic+json": {
              "type": "dataframe",
              "variable_name": "df_head",
              "summary": "{\n  \"name\": \"df_head\",\n  \"rows\": 10,\n  \"fields\": [\n    {\n      \"column\": \"Jumlah\",\n      \"properties\": {\n        \"dtype\": \"number\",\n        \"std\": 0,\n        \"min\": 1,\n        \"max\": 4,\n        \"num_unique_values\": 4,\n        \"samples\": [\n          1,\n          4,\n          2\n        ],\n        \"semantic_type\": \"\",\n        \"description\": \"\"\n      }\n    },\n    {\n      \"column\": \"Tingkat Kepuasan\",\n      \"properties\": {\n        \"dtype\": \"number\",\n        \"std\": 1,\n        \"min\": 1,\n        \"max\": 5,\n        \"num_unique_values\": 5,\n        \"samples\": [\n          3,\n          5,\n          4\n        ],\n        \"semantic_type\": \"\",\n        \"description\": \"\"\n      }\n    }\n  ]\n}"
            }
          },
          "metadata": {},
          "execution_count": 3
        }
      ]
    },
    {
      "cell_type": "markdown",
      "source": [
        "Tabel ini menunjukkan 10 baris pertama dari data numerik, yaitu kolom \"Jumlah\" dan \"Tingkat Kepuasan\"."
      ],
      "metadata": {
        "id": "uYpwlReoKeZJ"
      }
    },
    {
      "cell_type": "code",
      "source": [
        "# 3. Tampilkan informasi jumlah record, jumlah attribute, nama attribute, jumlah attribute dengan tipe angka.\n",
        "jumlah_baris, jumlah_kolom = df.shape\n",
        "nama_kolom = df.columns.tolist()\n",
        "jumlah_kolom_angka = len(df.select_dtypes(include='number').columns)\n",
        "\n",
        "print(\"Jumlah record:\", jumlah_baris)\n",
        "print(\"Jumlah atribut:\", jumlah_kolom)\n",
        "print(\"Nama atribut:\", df.columns.tolist())\n",
        "print(\"Jumlah atribut numerik:\", jumlah_kolom_angka)\n"
      ],
      "metadata": {
        "id": "cROX_bP7Karv",
        "colab": {
          "base_uri": "https://localhost:8080/"
        },
        "outputId": "911cf825-7612-42ab-cacf-5e1912a5adc6"
      },
      "execution_count": null,
      "outputs": [
        {
          "output_type": "stream",
          "name": "stdout",
          "text": [
            "Jumlah record: 50000\n",
            "Jumlah atribut: 10\n",
            "Nama atribut: ['ID Pelanggan', 'Tanggal Pembelian', 'Nama', 'Jenis Kelamin', 'Pendapatan', 'Produk', 'Harga', 'Jumlah', 'Total', 'Tingkat Kepuasan']\n",
            "Jumlah atribut numerik: 2\n"
          ]
        }
      ]
    },
    {
      "cell_type": "markdown",
      "source": [
        "Output ini menunjukkan profil dataset secara keseluruhan, yang terdiri dari 50.000 record dengan 10 atribut atau kolom informasi. Dari 10 atribut tersebut, hanya 2 yang bersifat numerik 'Jumlah' dan 'Tingkat Kepuasan'.\n",
        "\n"
      ],
      "metadata": {
        "id": "Z7HTStbAKzyA"
      }
    },
    {
      "cell_type": "code",
      "source": [
        "# 4. Tampilkan jumlah label dari semua attribute yang bernilai object (contoh : Jenis Kelamin, Agama).\n",
        "kolom_objek = df.select_dtypes(include='object').columns\n",
        "label_unik = {kol: df[kol].nunique() for kol in kolom_objek}\n",
        "label_unik"
      ],
      "metadata": {
        "id": "btd_3CSkKybD",
        "colab": {
          "base_uri": "https://localhost:8080/"
        },
        "outputId": "f79cd3f1-3cc6-4964-e92c-6ef3f6084082"
      },
      "execution_count": null,
      "outputs": [
        {
          "output_type": "execute_result",
          "data": {
            "text/plain": [
              "{'ID Pelanggan': 50000,\n",
              " 'Tanggal Pembelian': 365,\n",
              " 'Nama': 1000,\n",
              " 'Jenis Kelamin': 2,\n",
              " 'Pendapatan': 14,\n",
              " 'Produk': 60,\n",
              " 'Harga': 11,\n",
              " 'Total': 44}"
            ]
          },
          "metadata": {},
          "execution_count": 5
        }
      ]
    },
    {
      "cell_type": "markdown",
      "source": [
        "Output ini merinci jumlah kategori unik untuk setiap atribut non-numerik. Temuan menunjukkan bahwa dataset berisi 50.000 pelanggan unik dengan data 'tanggal pembelian' (sebanyak 365), 'Jenis Kelamin' (2 kategori), 'Produk' (60 jenis), dan 'Pendapatan' (14 level)."
      ],
      "metadata": {
        "id": "6RTAW6NOLNwE"
      }
    },
    {
      "cell_type": "code",
      "source": [
        "# 5. Visualisasikan dataset dengan salah satu grafik. Pilih grafik yang paling cocok untuk memvisualisasikan data tersebut.\n",
        "kepuasan = df['Tingkat Kepuasan'].value_counts().sort_index()\n",
        "\n",
        "ax = sns.barplot(x=kepuasan.index, y=kepuasan.values,\n",
        "                 palette=sns.color_palette(\"rocket\"))\n",
        "plt.title('Distribusi Tingkat Kepuasan Pelanggan')\n",
        "plt.xlabel('Tingkat Kepuasan')\n",
        "plt.ylabel('Jumlah Pelanggan')\n",
        "plt.ylim(8000, 10500)\n",
        "\n",
        "for i, v in enumerate(kepuasan.values):\n",
        "    ax.text(i, v + 50, str(v), ha='center', va='bottom')\n",
        "\n",
        "plt.show()"
      ],
      "metadata": {
        "id": "jmjy8amrLH_z",
        "colab": {
          "base_uri": "https://localhost:8080/",
          "height": 593
        },
        "outputId": "692a78dc-8e5d-4d8e-f791-d4f62b9ae8a1"
      },
      "execution_count": null,
      "outputs": [
        {
          "output_type": "stream",
          "name": "stderr",
          "text": [
            "/tmp/ipython-input-3649186242.py:4: FutureWarning: \n",
            "\n",
            "Passing `palette` without assigning `hue` is deprecated and will be removed in v0.14.0. Assign the `x` variable to `hue` and set `legend=False` for the same effect.\n",
            "\n",
            "  ax = sns.barplot(x=kepuasan.index, y=kepuasan.values,\n",
            "/tmp/ipython-input-3649186242.py:4: UserWarning: The palette list has more values (6) than needed (5), which may not be intended.\n",
            "  ax = sns.barplot(x=kepuasan.index, y=kepuasan.values,\n"
          ]
        },
        {
          "output_type": "display_data",
          "data": {
            "text/plain": [
              "<Figure size 640x480 with 1 Axes>"
            ],
            "image/png": "[encoded data removed]"
          },
          "metadata": {}
        }
      ]
    },
    {
      "cell_type": "markdown",
      "source": [
        "\n",
        "Kesimpulan yang bisa ditarik dari diagram batang tersebut adalah distribusi tingkat kepuasan pelanggan sangat merata, menunjukkan bahwa sentimen pelanggan terbagi secara seimbang di seluruh spektrum. Hal ini terlihat jelas dari jumlah pelanggan untuk setiap kategori kepuasan dari 1 hingga 5 yang secara konsisten berada di angka yang nyaris identik, yaitu sekitar 10.000 pelanggan.\n",
        "\n",
        "Secara visual, perbedaan tinggi antar diagram batang hampir tidak dapat dibedakan. Ini mengindikasikan bahwa selisih jumlah pelanggan antara kategori yang paling populer dan yang paling tidak populer sangatlah kecil, kemungkinan perbedaannya kurang dari 1%."
      ],
      "metadata": {
        "id": "7QiZ3qroMrbF"
      }
    },
    {
      "cell_type": "code",
      "source": [
        "# 6. Tampilkan korelasi dataset menggunakan heatmap.\n",
        "angka = df.select_dtypes(include='number')\n",
        "korelasi = angka.corr()\n",
        "sns.heatmap(korelasi, annot=True, cmap='coolwarm', center=0)\n",
        "plt.title('Korelasi Antar Atribut Numerik')\n",
        "plt.show()"
      ],
      "metadata": {
        "id": "zNE5Vwz9Mixf",
        "colab": {
          "base_uri": "https://localhost:8080/",
          "height": 452
        },
        "outputId": "dcb7c08d-5ab8-4ccd-9742-c3a59b309a93"
      },
      "execution_count": null,
      "outputs": [
        {
          "output_type": "display_data",
          "data": {
            "text/plain": [
              "<Figure size 640x480 with 2 Axes>"
            ],
            "image/png": "[encoded data removed]"
          },
          "metadata": {}
        }
      ]
    },
    {
      "cell_type": "markdown",
      "source": [
        "Berdasarkan heatmap korelasi, dapat disimpulkan bahwa hubungan antara atribut 'Jumlah' dan 'Tingkat Kepuasan' sangat lemah dan tidak signifikan (nilai korelasi 0.0027), artinya besar kecilnya nilai 'Jumlah' tidak memiliki pengaruh terukur terhadap puas atau tidaknya seorang pelanggan. Temuan ini sejalan dengan data distribusi pelanggan yang juga menunjukkan sebaran tingkat kepuasan yang sangat merata di semua level (1 hingga 5) tanpa adanya kategori yang dominan. Oleh karena itu, dapat ditegaskan bahwa atribut 'Jumlah' cenderung bersifat independen, dan keragaman tingkat kepuasan yang merata tersebut kemungkinan besar disebabkan oleh faktor-faktor lain di luar data ini, seperti kualitas produk, harga, atau pengalaman layanan pelanggan."
      ],
      "metadata": {
        "id": "SU14yFgUOP8C"
      }
    },
    {
      "cell_type": "markdown",
      "source": [
        "**Kesimpulan Analisis Data**\n",
        "\n",
        "1. Statistik Deskriptif, Dataset yang dianalisis terdiri dari 50.000 record dengan 10 atribut, yaitu ID Pelanggan, Tanggal Pembelian, Nama, Jenis Kelamin, Pendapatan, Produk, Harga, Jumlah, Total, dan Tingkat Kepuasan. Atribut numerik utamanya meliputi Pendapatan, Harga, Jumlah, dan Total. Data ini merepresentasikan transaksi pelanggan sekaligus mencatat tingkat kepuasan mereka, sehingga dapat memberikan gambaran menyeluruh tentang perilaku pembelian.\n",
        "\n",
        "2. Distribusi Tingkat Kepuasan (Diagram Batang), Berdasarkan diagram batang, mayoritas pelanggan berada pada kategori tingkat kepuasan menengah (misalnya skor 3 dari skala 1–5). Pelanggan yang sangat tidak puas maupun sangat puas jumlahnya relatif sama. Hal ini terlihat jelas dari jumlah pelanggan untuk setiap kategori kepuasan dari 1 hingga 5 yang secara konsisten berada di angka yang nyaris identik, yaitu sekitar 10.000 pelanggan.\n",
        "\n",
        "3. Hubungan Antar Variabel (Heatmap Korelasi), Berdasarkan heatmap korelasi, dapat disimpulkan bahwa hubungan antara atribut 'Jumlah' dan 'Tingkat Kepuasan' sangat lemah dan tidak signifikan (nilai korelasi 0.0027), artinya besar kecilnya nilai 'Jumlah' tidak memiliki pengaruh terukur terhadap puas atau tidaknya seorang pelanggan. Temuan ini sejalan dengan data distribusi pelanggan yang juga menunjukkan sebaran tingkat kepuasan yang sangat merata di semua level (1 hingga 5) tanpa adanya kategori yang dominan. Oleh karena itu, dapat ditegaskan bahwa atribut 'Jumlah' cenderung bersifat independen, dan keragaman tingkat kepuasan yang merata tersebut kemungkinan besar disebabkan oleh faktor-faktor lain di luar data ini, seperti kualitas produk, harga, atau pengalaman layanan pelanggan.\n",
        "\n",
        "\n",
        "**Kesimpulan Utama**\n",
        "Secara keseluruhan, data sales ini memberikan gambaran menyeluruh tentang profil pelanggan dan pola pembelian mereka. Mayoritas pelanggan memiliki tingkat kepuasan menengah. Total transaksi terutama dipengaruhi oleh harga dan jumlah produk yang dibeli. Faktor demografis dan jenis produk juga berpotensi memengaruhi perilaku pembelian serta tingkat kepuasan, sehingga dapat menjadi fokus analisis lanjutan untuk pengambilan keputusan yang lebih tepat."
      ],
      "metadata": {
        "id": "yYU8w1NLT4fn"
      }
    },
    {
      "cell_type": "code",
      "source": [],
      "metadata": {
        "id": "3PxXR7gAUK_w"
      },
      "execution_count": null,
      "outputs": []
    },
    {
      "cell_type": "markdown",
      "source": [
        "### POSTTEST 3"
      ],
      "metadata": {
        "id": "ejDh120Go6YZ"
      }
    },
    {
      "cell_type": "markdown",
      "source": [
        "# **MELIHAT NILAI NULL**"
      ],
      "metadata": {
        "id": "pwF0rfsYv3W-"
      }
    },
    {
      "cell_type": "code",
      "source": [
        "df.isnull().sum()"
      ],
      "metadata": {
        "id": "tpBrL8N7qtfM",
        "colab": {
          "base_uri": "https://localhost:8080/",
          "height": 397
        },
        "outputId": "e2c0e97e-07fc-4354-d661-900feaf035be"
      },
      "execution_count": null,
      "outputs": [
        {
          "output_type": "execute_result",
          "data": {
            "text/plain": [
              "ID Pelanggan         0\n",
              "Tanggal Pembelian    0\n",
              "Nama                 0\n",
              "Jenis Kelamin        0\n",
              "Pendapatan           0\n",
              "Produk               0\n",
              "Harga                0\n",
              "Jumlah               0\n",
              "Total                0\n",
              "Tingkat Kepuasan     0\n",
              "dtype: int64"
            ],
            "text/html": [
              "<div>\n",
              "<style scoped>\n",
              "    .dataframe tbody tr th:only-of-type {\n",
              "        vertical-align: middle;\n",
              "    }\n",
              "\n",
              "    .dataframe tbody tr th {\n",
              "        vertical-align: top;\n",
              "    }\n",
              "\n",
              "    .dataframe thead th {\n",
              "        text-align: right;\n",
              "    }\n",
              "</style>\n",
              "<table border=\"1\" class=\"dataframe\">\n",
              "  <thead>\n",
              "    <tr style=\"text-align: right;\">\n",
              "      <th></th>\n",
              "      <th>0</th>\n",
              "    </tr>\n",
              "  </thead>\n",
              "  <tbody>\n",
              "    <tr>\n",
              "      <th>ID Pelanggan</th>\n",
              "      <td>0</td>\n",
              "    </tr>\n",
              "    <tr>\n",
              "      <th>Tanggal Pembelian</th>\n",
              "      <td>0</td>\n",
              "    </tr>\n",
              "    <tr>\n",
              "      <th>Nama</th>\n",
              "      <td>0</td>\n",
              "    </tr>\n",
              "    <tr>\n",
              "      <th>Jenis Kelamin</th>\n",
              "      <td>0</td>\n",
              "    </tr>\n",
              "    <tr>\n",
              "      <th>Pendapatan</th>\n",
              "      <td>0</td>\n",
              "    </tr>\n",
              "    <tr>\n",
              "      <th>Produk</th>\n",
              "      <td>0</td>\n",
              "    </tr>\n",
              "    <tr>\n",
              "      <th>Harga</th>\n",
              "      <td>0</td>\n",
              "    </tr>\n",
              "    <tr>\n",
              "      <th>Jumlah</th>\n",
              "      <td>0</td>\n",
              "    </tr>\n",
              "    <tr>\n",
              "      <th>Total</th>\n",
              "      <td>0</td>\n",
              "    </tr>\n",
              "    <tr>\n",
              "      <th>Tingkat Kepuasan</th>\n",
              "      <td>0</td>\n",
              "    </tr>\n",
              "  </tbody>\n",
              "</table>\n",
              "</div><br><label><b>dtype:</b> int64</label>"
            ]
          },
          "metadata": {},
          "execution_count": 8
        }
      ]
    },
    {
      "cell_type": "markdown",
      "source": [
        "Dalam tahap pembersihan data, langkah pertama yang saya lakukan adalah memastikan kelengkapan data dengan mengecek apakah ada nilai yang hilang (missing values) atau nilai null. Saya menggunakan perintah df.isnull().sum() untuk menjumlahkan semua null di setiap kolom. Hasilnya menunjukkan bahwa semua kolom bernilai nol, artinya dataset ini tidak ada lagi missing valuenya disini."
      ],
      "metadata": {
        "id": "gMDZ2t6qg08D"
      }
    },
    {
      "cell_type": "markdown",
      "source": [
        "# **MELIHAT DUPLIKAT DATA**"
      ],
      "metadata": {
        "id": "IuyBEhkpvykg"
      }
    },
    {
      "cell_type": "code",
      "source": [
        "duplicate = df.duplicated().sum()\n",
        "print('Jumlah nilai duplikat pada data: ', duplicate)"
      ],
      "metadata": {
        "id": "mz5MZ3QOq50p",
        "colab": {
          "base_uri": "https://localhost:8080/"
        },
        "outputId": "98da152e-f1fc-4027-fa6b-3c06df586596"
      },
      "execution_count": null,
      "outputs": [
        {
          "output_type": "stream",
          "name": "stdout",
          "text": [
            "Jumlah nilai duplikat pada data:  0\n"
          ]
        }
      ]
    },
    {
      "cell_type": "markdown",
      "source": [
        "Setelah beres dengan data null (missing values), saya langsung lanjut ngecek apakah ada baris data yang kembar. Nah, saya pakai df.duplicated().sum() untuk tau total duplikatnya. Hasil outputnya menunjukkan jumlah nilai duplikat pada data: 0. Ini artinya, data ini bener-bener unik dan nggak ada copy-paste atau duplikat yang bisa bikin model kita bias."
      ],
      "metadata": {
        "id": "lxkuGxG6jHNe"
      }
    },
    {
      "cell_type": "markdown",
      "source": [
        "# **MELIHAT OUTLIER**"
      ],
      "metadata": {
        "id": "c84_ejkhvrTY"
      }
    },
    {
      "cell_type": "code",
      "source": [
        "outlier_kepuasan = df[(df['Tingkat Kepuasan'] < 1) | (df['Tingkat Kepuasan'] > 5)]\n",
        "\n",
        "if outlier_kepuasan.empty:\n",
        "    print(\"Tidak ada outlier ditemukan pada 'Tingkat Kepuasan'.\\n\")\n",
        "else:\n",
        "    print(\"Ditemukan outlier pada 'Tingkat Kepuasan':\")\n",
        "    print(outlier_kepuasan)\n"
      ],
      "metadata": {
        "id": "3j6X71nKrnCe",
        "colab": {
          "base_uri": "https://localhost:8080/"
        },
        "outputId": "be8d5d1b-1215-46e0-b253-69749a3935f3"
      },
      "execution_count": null,
      "outputs": [
        {
          "output_type": "stream",
          "name": "stdout",
          "text": [
            "Tidak ada outlier ditemukan pada 'Tingkat Kepuasan'.\n",
            "\n"
          ]
        }
      ]
    },
    {
      "cell_type": "markdown",
      "source": [
        "Langkah terakhir di data cleaning adalah memeriksa outlier atau nilai ekstrem. Pertama, saya cek kolom 'Tingkat Kepuasan' dan, seperti yang terlihat, tidak ada outlier karena semua nilai sudah berada di rentang survei yang wajar (1 sampai 5)."
      ],
      "metadata": {
        "id": "LmMqVD1Jjub5"
      }
    },
    {
      "cell_type": "code",
      "source": [
        "kolom_numerik = ['Tingkat Kepuasan', 'Jumlah']\n",
        "\n",
        "for kolom in kolom_numerik:\n",
        "    Q1 = df[kolom].quantile(0.25)\n",
        "    Q3 = df[kolom].quantile(0.75)\n",
        "    IQR = Q3 - Q1\n",
        "\n",
        "    batas_bawah = Q1 - 1.5 * IQR\n",
        "    batas_atas = Q3 + 1.5 * IQR\n",
        "\n",
        "    # Mencari baris outlier\n",
        "    outliers = df[(df[kolom] < batas_bawah) | (df[kolom] > batas_atas)]\n",
        "\n",
        "    if outliers.empty:\n",
        "        print(f\"Tidak ada outlier statistik di kolom '{kolom}'.\")\n",
        "    else:\n",
        "        print(f\"\\nOutlier terdeteksi di kolom '{kolom}':\")\n",
        "\n",
        "        print(outliers[['Nama', 'Produk', kolom]])"
      ],
      "metadata": {
        "id": "e0iyZZy00BR2",
        "colab": {
          "base_uri": "https://localhost:8080/"
        },
        "outputId": "e1b3ed3a-5c31-41a8-cb6c-bfd205a81a49"
      },
      "execution_count": null,
      "outputs": [
        {
          "output_type": "stream",
          "name": "stdout",
          "text": [
            "Tidak ada outlier statistik di kolom 'Tingkat Kepuasan'.\n",
            "\n",
            "Outlier terdeteksi di kolom 'Jumlah':\n",
            "                 Nama              Produk  Jumlah\n",
            "75      Anthony Lopez           Desk Lamp       8\n",
            "105    Brian Mitchell      Microwave Oven       8\n",
            "126     Thomas Wright             Monitor       8\n",
            "228        Arif Baker     Security Camera       9\n",
            "249       Emily Young       Action Camera       9\n",
            "...               ...                 ...     ...\n",
            "49858     Layla Allen  Straightening Iron       8\n",
            "49894    Evelyn Jones     Security Camera       9\n",
            "49911     Jack Carter             Monitor       9\n",
            "49950  Hazel Martinez              Router       8\n",
            "49994    Ethan Harris      Vacuum Cleaner       8\n",
            "\n",
            "[929 rows x 3 columns]\n"
          ]
        }
      ]
    },
    {
      "cell_type": "markdown",
      "source": [
        "Meskipun kolom 'Tingkat Kepuasan' sudah bersih dari outlier, tapi disini terdeteksi ada 929 baris outlier pada kolom 'Jumlah' (kuantitas produk yang dibeli). Outlier ini, yang menunjukkan pembelian dalam jumlah besar seperti 8 atau 9 unit, dan ini dipertahankan. Keputusan ini didasari alasan bahwa angka tersebut sangat realistis dalam transaksi bisnis dan merepresentasikan perilaku pembelian partai besar atau grosir oleh pelanggan. Menghapus data ini akan menghilangkan informasi penting mengenai pelanggan berdaya beli tinggi, yang justru memperkaya kekuatan prediktif dataset. Oleh karena itu, semua outlier di kolom 'Jumlah' dianggap valid dan dipertahankan."
      ],
      "metadata": {
        "id": "6FZdsAAGlgpd"
      }
    },
    {
      "cell_type": "markdown",
      "source": [
        "**Setelah semua di periksa, saya mendapati dataset ini berada dalam kondisi yang baik. Tidak ada missing values ataupun data duplikat yang ditemukan. Meskipun ada outlier yang terdeteksi di kolom 'Jumlah', saya putuskan untuk mempertahankannya karena nilai-nilai tersebut dianggap realistis dan penting untuk representasi data yang akurat. Oleh karena itu, tidak ada kode cleaning (penghapusan atau modifikasi data) yang perlu dijalankan di tahap ini.**"
      ],
      "metadata": {
        "id": "-rK5Q4DSoGMr"
      }
    },
    {
      "cell_type": "markdown",
      "source": [
        "# **STANDARISASI DATA**"
      ],
      "metadata": {
        "id": "2zYMAeUIvPEl"
      }
    },
    {
      "cell_type": "code",
      "source": [
        "from sklearn.preprocessing import StandardScaler\n",
        "\n",
        "scaler = StandardScaler()\n",
        "numeric_cols = df.select_dtypes(include=['int64', 'float64']).columns\n",
        "df_processed = df.copy()\n",
        "\n",
        "df_processed[numeric_cols] = scaler.fit_transform(df[numeric_cols])\n",
        "\n",
        "print(\"Data setelah standarisasi:\")\n",
        "df_processed.head(10)"
      ],
      "metadata": {
        "id": "wgPb2ms95UVi",
        "colab": {
          "base_uri": "https://localhost:8080/",
          "height": 380
        },
        "outputId": "36e66ee5-0201-40bd-d995-92220dd9985c"
      },
      "execution_count": null,
      "outputs": [
        {
          "output_type": "stream",
          "name": "stdout",
          "text": [
            "Data setelah standarisasi:\n"
          ]
        },
        {
          "output_type": "execute_result",
          "data": {
            "text/plain": [
              "  ID Pelanggan Tanggal Pembelian                Nama Jenis Kelamin Pendapatan  \\\n",
              "0     da11b203        2023-01-01     Elijah Gonzalez     Perempuan    1200000   \n",
              "1     70aa9ccb        2023-01-01           Tina King     Laki-laki     400000   \n",
              "2     cab53e29        2023-01-01     Sofia Hernandez     Perempuan     950000   \n",
              "3     cd34756a        2023-01-01       William Smith     Laki-laki     950000   \n",
              "4     23fbe219        2023-01-01      Savannah Jones     Perempuan     950000   \n",
              "5     61a83503        2023-01-01        Adam Jackson     Perempuan    1200000   \n",
              "6     c7d0b129        2023-01-01    Hannah Hernandez     Perempuan     600000   \n",
              "7     827839d2        2023-01-01       Luna Campbell     Laki-laki     400000   \n",
              "8     49646aec        2023-01-01  Charlotte Phillips     Perempuan     950000   \n",
              "9     2a2cbbfc        2023-01-01          Ella Smith     Perempuan     950000   \n",
              "\n",
              "           Produk    Harga    Jumlah    Total  Tingkat Kepuasan  \n",
              "0    Coffee Maker  1000000 -0.472355  2000000         -1.414072  \n",
              "1  Smart Home Hub   250000 -0.472355   500000          0.000368  \n",
              "2           Dryer   500000 -1.166279   500000          0.707588  \n",
              "3          Camera  1000000  0.221570  3000000          0.000368  \n",
              "4          Camera  1000000 -1.166279  1000000          0.707588  \n",
              "5         Toaster   100000 -0.472355   200000          0.000368  \n",
              "6  Gaming Console   250000 -1.166279   250000         -0.706852  \n",
              "7  Food Processor   500000  0.221570  1500000         -1.414072  \n",
              "8           Drone   500000  0.915495  2000000          1.414808  \n",
              "9     Flash Drive   100000 -0.472355   200000          0.707588  "
            ],
            "text/html": [
              "\n",
              "  <div id=\"df-819d96ef-94f5-423e-8902-71b6e87ac09a\" class=\"colab-df-container\">\n",
              "    <div>\n",
              "<style scoped>\n",
              "    .dataframe tbody tr th:only-of-type {\n",
              "        vertical-align: middle;\n",
              "    }\n",
              "\n",
              "    .dataframe tbody tr th {\n",
              "        vertical-align: top;\n",
              "    }\n",
              "\n",
              "    .dataframe thead th {\n",
              "        text-align: right;\n",
              "    }\n",
              "</style>\n",
              "<table border=\"1\" class=\"dataframe\">\n",
              "  <thead>\n",
              "    <tr style=\"text-align: right;\">\n",
              "      <th></th>\n",
              "      <th>ID Pelanggan</th>\n",
              "      <th>Tanggal Pembelian</th>\n",
              "      <th>Nama</th>\n",
              "      <th>Jenis Kelamin</th>\n",
              "      <th>Pendapatan</th>\n",
              "      <th>Produk</th>\n",
              "      <th>Harga</th>\n",
              "      <th>Jumlah</th>\n",
              "      <th>Total</th>\n",
              "      <th>Tingkat Kepuasan</th>\n",
              "    </tr>\n",
              "  </thead>\n",
              "  <tbody>\n",
              "    <tr>\n",
              "      <th>0</th>\n",
              "      <td>da11b203</td>\n",
              "      <td>2023-01-01</td>\n",
              "      <td>Elijah Gonzalez</td>\n",
              "      <td>Perempuan</td>\n",
              "      <td>1200000</td>\n",
              "      <td>Coffee Maker</td>\n",
              "      <td>1000000</td>\n",
              "      <td>-0.472355</td>\n",
              "      <td>2000000</td>\n",
              "      <td>-1.414072</td>\n",
              "    </tr>\n",
              "    <tr>\n",
              "      <th>1</th>\n",
              "      <td>70aa9ccb</td>\n",
              "      <td>2023-01-01</td>\n",
              "      <td>Tina King</td>\n",
              "      <td>Laki-laki</td>\n",
              "      <td>400000</td>\n",
              "      <td>Smart Home Hub</td>\n",
              "      <td>250000</td>\n",
              "      <td>-0.472355</td>\n",
              "      <td>500000</td>\n",
              "      <td>0.000368</td>\n",
              "    </tr>\n",
              "    <tr>\n",
              "      <th>2</th>\n",
              "      <td>cab53e29</td>\n",
              "      <td>2023-01-01</td>\n",
              "      <td>Sofia Hernandez</td>\n",
              "      <td>Perempuan</td>\n",
              "      <td>950000</td>\n",
              "      <td>Dryer</td>\n",
              "      <td>500000</td>\n",
              "      <td>-1.166279</td>\n",
              "      <td>500000</td>\n",
              "      <td>0.707588</td>\n",
              "    </tr>\n",
              "    <tr>\n",
              "      <th>3</th>\n",
              "      <td>cd34756a</td>\n",
              "      <td>2023-01-01</td>\n",
              "      <td>William Smith</td>\n",
              "      <td>Laki-laki</td>\n",
              "      <td>950000</td>\n",
              "      <td>Camera</td>\n",
              "      <td>1000000</td>\n",
              "      <td>0.221570</td>\n",
              "      <td>3000000</td>\n",
              "      <td>0.000368</td>\n",
              "    </tr>\n",
              "    <tr>\n",
              "      <th>4</th>\n",
              "      <td>23fbe219</td>\n",
              "      <td>2023-01-01</td>\n",
              "      <td>Savannah Jones</td>\n",
              "      <td>Perempuan</td>\n",
              "      <td>950000</td>\n",
              "      <td>Camera</td>\n",
              "      <td>1000000</td>\n",
              "      <td>-1.166279</td>\n",
              "      <td>1000000</td>\n",
              "      <td>0.707588</td>\n",
              "    </tr>\n",
              "    <tr>\n",
              "      <th>5</th>\n",
              "      <td>61a83503</td>\n",
              "      <td>2023-01-01</td>\n",
              "      <td>Adam Jackson</td>\n",
              "      <td>Perempuan</td>\n",
              "      <td>1200000</td>\n",
              "      <td>Toaster</td>\n",
              "      <td>100000</td>\n",
              "      <td>-0.472355</td>\n",
              "      <td>200000</td>\n",
              "      <td>0.000368</td>\n",
              "    </tr>\n",
              "    <tr>\n",
              "      <th>6</th>\n",
              "      <td>c7d0b129</td>\n",
              "      <td>2023-01-01</td>\n",
              "      <td>Hannah Hernandez</td>\n",
              "      <td>Perempuan</td>\n",
              "      <td>600000</td>\n",
              "      <td>Gaming Console</td>\n",
              "      <td>250000</td>\n",
              "      <td>-1.166279</td>\n",
              "      <td>250000</td>\n",
              "      <td>-0.706852</td>\n",
              "    </tr>\n",
              "    <tr>\n",
              "      <th>7</th>\n",
              "      <td>827839d2</td>\n",
              "      <td>2023-01-01</td>\n",
              "      <td>Luna Campbell</td>\n",
              "      <td>Laki-laki</td>\n",
              "      <td>400000</td>\n",
              "      <td>Food Processor</td>\n",
              "      <td>500000</td>\n",
              "      <td>0.221570</td>\n",
              "      <td>1500000</td>\n",
              "      <td>-1.414072</td>\n",
              "    </tr>\n",
              "    <tr>\n",
              "      <th>8</th>\n",
              "      <td>49646aec</td>\n",
              "      <td>2023-01-01</td>\n",
              "      <td>Charlotte Phillips</td>\n",
              "      <td>Perempuan</td>\n",
              "      <td>950000</td>\n",
              "      <td>Drone</td>\n",
              "      <td>500000</td>\n",
              "      <td>0.915495</td>\n",
              "      <td>2000000</td>\n",
              "      <td>1.414808</td>\n",
              "    </tr>\n",
              "    <tr>\n",
              "      <th>9</th>\n",
              "      <td>2a2cbbfc</td>\n",
              "      <td>2023-01-01</td>\n",
              "      <td>Ella Smith</td>\n",
              "      <td>Perempuan</td>\n",
              "      <td>950000</td>\n",
              "      <td>Flash Drive</td>\n",
              "      <td>100000</td>\n",
              "      <td>-0.472355</td>\n",
              "      <td>200000</td>\n",
              "      <td>0.707588</td>\n",
              "    </tr>\n",
              "  </tbody>\n",
              "</table>\n",
              "</div>\n",
              "    <div class=\"colab-df-buttons\">\n",
              "\n",
              "  <div class=\"colab-df-container\">\n",
              "    <button class=\"colab-df-convert\" onclick=\"convertToInteractive('df-819d96ef-94f5-423e-8902-71b6e87ac09a')\"\n",
              "            title=\"Convert this dataframe to an interactive table.\"\n",
              "            style=\"display:none;\">\n",
              "\n",
              "  <svg xmlns=\"http://www.w3.org/2000/svg\" height=\"24px\" viewBox=\"0 -960 960 960\">\n",
              "    <path d=\"M120-120v-720h720v720H120Zm60-500h600v-160H180v160Zm220 220h160v-160H400v160Zm0 220h160v-160H400v160ZM180-400h160v-160H180v160Zm440 0h160v-160H620v160ZM180-180h160v-160H180v160Zm440 0h160v-160H620v160Z\"/>\n",
              "  </svg>\n",
              "    </button>\n",
              "\n",
              "  <style>\n",
              "    .colab-df-container {\n",
              "      display:flex;\n",
              "      gap: 12px;\n",
              "    }\n",
              "\n",
              "    .colab-df-convert {\n",
              "      background-color: #E8F0FE;\n",
              "      border: none;\n",
              "      border-radius: 50%;\n",
              "      cursor: pointer;\n",
              "      display: none;\n",
              "      fill: #1967D2;\n",
              "      height: 32px;\n",
              "      padding: 0 0 0 0;\n",
              "      width: 32px;\n",
              "    }\n",
              "\n",
              "    .colab-df-convert:hover {\n",
              "      background-color: #E2EBFA;\n",
              "      box-shadow: 0px 1px 2px rgba(60, 64, 67, 0.3), 0px 1px 3px 1px rgba(60, 64, 67, 0.15);\n",
              "      fill: #174EA6;\n",
              "    }\n",
              "\n",
              "    .colab-df-buttons div {\n",
              "      margin-bottom: 4px;\n",
              "    }\n",
              "\n",
              "    [theme=dark] .colab-df-convert {\n",
              "      background-color: #3B4455;\n",
              "      fill: #D2E3FC;\n",
              "    }\n",
              "\n",
              "    [theme=dark] .colab-df-convert:hover {\n",
              "      background-color: #434B5C;\n",
              "      box-shadow: 0px 1px 3px 1px rgba(0, 0, 0, 0.15);\n",
              "      filter: drop-shadow(0px 1px 2px rgba(0, 0, 0, 0.3));\n",
              "      fill: #FFFFFF;\n",
              "    }\n",
              "  </style>\n",
              "\n",
              "    <script>\n",
              "      const buttonEl =\n",
              "        document.querySelector('#df-819d96ef-94f5-423e-8902-71b6e87ac09a button.colab-df-convert');\n",
              "      buttonEl.style.display =\n",
              "        google.colab.kernel.accessAllowed ? 'block' : 'none';\n",
              "\n",
              "      async function convertToInteractive(key) {\n",
              "        const element = document.querySelector('#df-819d96ef-94f5-423e-8902-71b6e87ac09a');\n",
              "        const dataTable =\n",
              "          await google.colab.kernel.invokeFunction('convertToInteractive',\n",
              "                                                    [key], {});\n",
              "        if (!dataTable) return;\n",
              "\n",
              "        const docLinkHtml = 'Like what you see? Visit the ' +\n",
              "          '<a target=\"_blank\" href=https://colab.research.google.com/notebooks/data_table.ipynb>data table notebook</a>'\n",
              "          + ' to learn more about interactive tables.';\n",
              "        element.innerHTML = '';\n",
              "        dataTable['output_type'] = 'display_data';\n",
              "        await google.colab.output.renderOutput(dataTable, element);\n",
              "        const docLink = document.createElement('div');\n",
              "        docLink.innerHTML = docLinkHtml;\n",
              "        element.appendChild(docLink);\n",
              "      }\n",
              "    </script>\n",
              "  </div>\n",
              "\n",
              "\n",
              "    <div id=\"df-2f1fc72e-a522-47ed-8c7a-cda78dc190c9\">\n",
              "      <button class=\"colab-df-quickchart\" onclick=\"quickchart('df-2f1fc72e-a522-47ed-8c7a-cda78dc190c9')\"\n",
              "                title=\"Suggest charts\"\n",
              "                style=\"display:none;\">\n",
              "\n",
              "<svg xmlns=\"http://www.w3.org/2000/svg\" height=\"24px\"viewBox=\"0 0 24 24\"\n",
              "     width=\"24px\">\n",
              "    <g>\n",
              "        <path d=\"M19 3H5c-1.1 0-2 .9-2 2v14c0 1.1.9 2 2 2h14c1.1 0 2-.9 2-2V5c0-1.1-.9-2-2-2zM9 17H7v-7h2v7zm4 0h-2V7h2v10zm4 0h-2v-4h2v4z\"/>\n",
              "    </g>\n",
              "</svg>\n",
              "      </button>\n",
              "\n",
              "<style>\n",
              "  .colab-df-quickchart {\n",
              "      --bg-color: #E8F0FE;\n",
              "      --fill-color: #1967D2;\n",
              "      --hover-bg-color: #E2EBFA;\n",
              "      --hover-fill-color: #174EA6;\n",
              "      --disabled-fill-color: #AAA;\n",
              "      --disabled-bg-color: #DDD;\n",
              "  }\n",
              "\n",
              "  [theme=dark] .colab-df-quickchart {\n",
              "      --bg-color: #3B4455;\n",
              "      --fill-color: #D2E3FC;\n",
              "      --hover-bg-color: #434B5C;\n",
              "      --hover-fill-color: #FFFFFF;\n",
              "      --disabled-bg-color: #3B4455;\n",
              "      --disabled-fill-color: #666;\n",
              "  }\n",
              "\n",
              "  .colab-df-quickchart {\n",
              "    background-color: var(--bg-color);\n",
              "    border: none;\n",
              "    border-radius: 50%;\n",
              "    cursor: pointer;\n",
              "    display: none;\n",
              "    fill: var(--fill-color);\n",
              "    height: 32px;\n",
              "    padding: 0;\n",
              "    width: 32px;\n",
              "  }\n",
              "\n",
              "  .colab-df-quickchart:hover {\n",
              "    background-color: var(--hover-bg-color);\n",
              "    box-shadow: 0 1px 2px rgba(60, 64, 67, 0.3), 0 1px 3px 1px rgba(60, 64, 67, 0.15);\n",
              "    fill: var(--button-hover-fill-color);\n",
              "  }\n",
              "\n",
              "  .colab-df-quickchart-complete:disabled,\n",
              "  .colab-df-quickchart-complete:disabled:hover {\n",
              "    background-color: var(--disabled-bg-color);\n",
              "    fill: var(--disabled-fill-color);\n",
              "    box-shadow: none;\n",
              "  }\n",
              "\n",
              "  .colab-df-spinner {\n",
              "    border: 2px solid var(--fill-color);\n",
              "    border-color: transparent;\n",
              "    border-bottom-color: var(--fill-color);\n",
              "    animation:\n",
              "      spin 1s steps(1) infinite;\n",
              "  }\n",
              "\n",
              "  @keyframes spin {\n",
              "    0% {\n",
              "      border-color: transparent;\n",
              "      border-bottom-color: var(--fill-color);\n",
              "      border-left-color: var(--fill-color);\n",
              "    }\n",
              "    20% {\n",
              "      border-color: transparent;\n",
              "      border-left-color: var(--fill-color);\n",
              "      border-top-color: var(--fill-color);\n",
              "    }\n",
              "    30% {\n",
              "      border-color: transparent;\n",
              "      border-left-color: var(--fill-color);\n",
              "      border-top-color: var(--fill-color);\n",
              "      border-right-color: var(--fill-color);\n",
              "    }\n",
              "    40% {\n",
              "      border-color: transparent;\n",
              "      border-right-color: var(--fill-color);\n",
              "      border-top-color: var(--fill-color);\n",
              "    }\n",
              "    60% {\n",
              "      border-color: transparent;\n",
              "      border-right-color: var(--fill-color);\n",
              "    }\n",
              "    80% {\n",
              "      border-color: transparent;\n",
              "      border-right-color: var(--fill-color);\n",
              "      border-bottom-color: var(--fill-color);\n",
              "    }\n",
              "    90% {\n",
              "      border-color: transparent;\n",
              "      border-bottom-color: var(--fill-color);\n",
              "    }\n",
              "  }\n",
              "</style>\n",
              "\n",
              "      <script>\n",
              "        async function quickchart(key) {\n",
              "          const quickchartButtonEl =\n",
              "            document.querySelector('#' + key + ' button');\n",
              "          quickchartButtonEl.disabled = true;  // To prevent multiple clicks.\n",
              "          quickchartButtonEl.classList.add('colab-df-spinner');\n",
              "          try {\n",
              "            const charts = await google.colab.kernel.invokeFunction(\n",
              "                'suggestCharts', [key], {});\n",
              "          } catch (error) {\n",
              "            console.error('Error during call to suggestCharts:', error);\n",
              "          }\n",
              "          quickchartButtonEl.classList.remove('colab-df-spinner');\n",
              "          quickchartButtonEl.classList.add('colab-df-quickchart-complete');\n",
              "        }\n",
              "        (() => {\n",
              "          let quickchartButtonEl =\n",
              "            document.querySelector('#df-2f1fc72e-a522-47ed-8c7a-cda78dc190c9 button');\n",
              "          quickchartButtonEl.style.display =\n",
              "            google.colab.kernel.accessAllowed ? 'block' : 'none';\n",
              "        })();\n",
              "      </script>\n",
              "    </div>\n",
              "\n",
              "    </div>\n",
              "  </div>\n"
            ],
            "application/vnd.google.colaboratory.intrinsic+json": {
              "type": "dataframe",
              "variable_name": "df_processed",
              "summary": "{\n  \"name\": \"df_processed\",\n  \"rows\": 50000,\n  \"fields\": [\n    {\n      \"column\": \"ID Pelanggan\",\n      \"properties\": {\n        \"dtype\": \"string\",\n        \"num_unique_values\": 50000,\n        \"samples\": [\n          \"a0f00ac4\",\n          \"02029467\",\n          \"24b88e6f\"\n        ],\n        \"semantic_type\": \"\",\n        \"description\": \"\"\n      }\n    },\n    {\n      \"column\": \"Tanggal Pembelian\",\n      \"properties\": {\n        \"dtype\": \"object\",\n        \"num_unique_values\": 365,\n        \"samples\": [\n          \"2023-07-13\",\n          \"2023-02-03\",\n          \"2023-01-16\"\n        ],\n        \"semantic_type\": \"\",\n        \"description\": \"\"\n      }\n    },\n    {\n      \"column\": \"Nama\",\n      \"properties\": {\n        \"dtype\": \"category\",\n        \"num_unique_values\": 1000,\n        \"samples\": [\n          \"Fajar Carter\",\n          \"Arif Clark\",\n          \"Adam Evans\"\n        ],\n        \"semantic_type\": \"\",\n        \"description\": \"\"\n      }\n    },\n    {\n      \"column\": \"Jenis Kelamin\",\n      \"properties\": {\n        \"dtype\": \"category\",\n        \"num_unique_values\": 2,\n        \"samples\": [\n          \"Laki-laki\",\n          \"Perempuan\"\n        ],\n        \"semantic_type\": \"\",\n        \"description\": \"\"\n      }\n    },\n    {\n      \"column\": \"Pendapatan\",\n      \"properties\": {\n        \"dtype\": \"category\",\n        \"num_unique_values\": 14,\n        \"samples\": [\n          \"1.700.000\",\n          \"800.000\"\n        ],\n        \"semantic_type\": \"\",\n        \"description\": \"\"\n      }\n    },\n    {\n      \"column\": \"Produk\",\n      \"properties\": {\n        \"dtype\": \"category\",\n        \"num_unique_values\": 60,\n        \"samples\": [\n          \"Coffee Maker\",\n          \"Gaming Console\"\n        ],\n        \"semantic_type\": \"\",\n        \"description\": \"\"\n      }\n    },\n    {\n      \"column\": \"Harga\",\n      \"properties\": {\n        \"dtype\": \"category\",\n        \"num_unique_values\": 11,\n        \"samples\": [\n          \"250.000\",\n          \"1000000\"\n        ],\n        \"semantic_type\": \"\",\n        \"description\": \"\"\n      }\n    },\n    {\n      \"column\": \"Jumlah\",\n      \"properties\": {\n        \"dtype\": \"number\",\n        \"std\": 1.0000100001499932,\n        \"min\": -1.166279208261574,\n        \"max\": 4.38511822500587,\n        \"num_unique_values\": 9,\n        \"samples\": [\n          2.3033441875305787,\n          -1.166279208261574\n        ],\n        \"semantic_type\": \"\",\n        \"description\": \"\"\n      }\n    },\n    {\n      \"column\": \"Total\",\n      \"properties\": {\n        \"dtype\": \"category\",\n        \"num_unique_values\": 44,\n        \"samples\": [\n          \"1.250.000\",\n          \"800.000\"\n        ],\n        \"semantic_type\": \"\",\n        \"description\": \"\"\n      }\n    },\n    {\n      \"column\": \"Tingkat Kepuasan\",\n      \"properties\": {\n        \"dtype\": \"number\",\n        \"std\": 1.0000100001501069,\n        \"min\": -1.4140722321136217,\n        \"max\": 1.4148077409066067,\n        \"num_unique_values\": 5,\n        \"samples\": [\n          0.00036775439649252634,\n          1.4148077409066067\n        ],\n        \"semantic_type\": \"\",\n        \"description\": \"\"\n      }\n    }\n  ]\n}"
            }
          },
          "metadata": {},
          "execution_count": 12
        }
      ]
    },
    {
      "cell_type": "markdown",
      "source": [
        "Setelah data cleaning selesai, saya langsung lanjut ke tahap standardisasi pada semua kolom numerik. Di sini, saya menggunakan StandardScaler yang mengubah nilai-nilai data, sehingga punya rata-rata nol (0) dan standar deviasi satu (1). Kenapa pilih Standardisasi ketimbang Normalisasi (Min-Max Scaling)? Karena Standardisasi lebih tangguh dan tidak sensitif terhadap outlier yang sebelumnya saya putuskan untuk dipertahankan, terutama di kolom 'Jumlah'. Dengan Standardisasi, outlier tetap ada tapi pengaruhnya pada skala keseluruhan lebih minim."
      ],
      "metadata": {
        "id": "IDzXzbdym5Yc"
      }
    },
    {
      "cell_type": "markdown",
      "source": [
        "# **MENGECEK DATA KATEGORIKAL**"
      ],
      "metadata": {
        "id": "XAgChDQ8vIvl"
      }
    },
    {
      "cell_type": "code",
      "source": [
        "categorical_cols = df.select_dtypes(include=['object']).columns\n",
        "print(list(categorical_cols))"
      ],
      "metadata": {
        "id": "7kyJS0RJD-dk",
        "colab": {
          "base_uri": "https://localhost:8080/"
        },
        "outputId": "f55bf690-e11c-4497-b1c5-5041865843ce"
      },
      "execution_count": null,
      "outputs": [
        {
          "output_type": "stream",
          "name": "stdout",
          "text": [
            "['ID Pelanggan', 'Tanggal Pembelian', 'Nama', 'Jenis Kelamin', 'Pendapatan', 'Produk', 'Harga', 'Total']\n"
          ]
        }
      ]
    },
    {
      "cell_type": "markdown",
      "source": [
        "disini saya menjalankan perintah untuk mengecek kolom mana saja yang masih berformat kategorikal. Hasilnya disini menunjukkan adanya beberapa kolom kategorikal."
      ],
      "metadata": {
        "id": "Fcrw2oBqqKWJ"
      }
    },
    {
      "cell_type": "markdown",
      "source": [
        "# **Encoding**"
      ],
      "metadata": {
        "id": "GRV-xIj9vCtJ"
      }
    },
    {
      "cell_type": "code",
      "source": [
        "from sklearn.preprocessing import OneHotEncoder\n",
        "\n",
        "cols_to_encode = ['Jenis Kelamin', 'Produk']\n",
        "print(f\"Kolom yang akan di-encode: {cols_to_encode}\")\n",
        "\n",
        "encoder = OneHotEncoder(sparse_output=False, handle_unknown='ignore')\n",
        "\n",
        "encoded_data = encoder.fit_transform(df[cols_to_encode])\n",
        "\n",
        "df_encoded = pd.DataFrame(encoded_data, columns=encoder.get_feature_names_out(cols_to_encode))\n",
        "\n",
        "print(\"\\n--- Data Kategorikal Setelah Di-encode ---\")\n",
        "print(df_encoded.head())"
      ],
      "metadata": {
        "id": "o58aKCftHh10",
        "colab": {
          "base_uri": "https://localhost:8080/"
        },
        "outputId": "2648ac8a-c78b-4116-cbce-c2637952b166"
      },
      "execution_count": null,
      "outputs": [
        {
          "output_type": "stream",
          "name": "stdout",
          "text": [
            "Kolom yang akan di-encode: ['Jenis Kelamin', 'Produk']\n",
            "\n",
            "--- Data Kategorikal Setelah Di-encode ---\n",
            "   Jenis Kelamin_Laki-laki  Jenis Kelamin_Perempuan  Produk_3D Printer  \\\n",
            "0                      0.0                      1.0                0.0   \n",
            "1                      1.0                      0.0                0.0   \n",
            "2                      0.0                      1.0                0.0   \n",
            "3                      1.0                      0.0                0.0   \n",
            "4                      0.0                      1.0                0.0   \n",
            "\n",
            "   Produk_Action Camera  Produk_Air Fryer  Produk_Air Purifier  \\\n",
            "0                   0.0               0.0                  0.0   \n",
            "1                   0.0               0.0                  0.0   \n",
            "2                   0.0               0.0                  0.0   \n",
            "3                   0.0               0.0                  0.0   \n",
            "4                   0.0               0.0                  0.0   \n",
            "\n",
            "   Produk_Blender  Produk_Bluetooth Speaker  Produk_Camera  Produk_Charger  \\\n",
            "0             0.0                       0.0            0.0             0.0   \n",
            "1             0.0                       0.0            0.0             0.0   \n",
            "2             0.0                       0.0            0.0             0.0   \n",
            "3             0.0                       0.0            1.0             0.0   \n",
            "4             0.0                       0.0            1.0             0.0   \n",
            "\n",
            "   ...  Produk_Speaker  Produk_Straightening Iron  Produk_Tablet  \\\n",
            "0  ...             0.0                        0.0            0.0   \n",
            "1  ...             0.0                        0.0            0.0   \n",
            "2  ...             0.0                        0.0            0.0   \n",
            "3  ...             0.0                        0.0            0.0   \n",
            "4  ...             0.0                        0.0            0.0   \n",
            "\n",
            "   Produk_Toaster  Produk_VR Headset  Produk_Vacuum Cleaner  \\\n",
            "0             0.0                0.0                    0.0   \n",
            "1             0.0                0.0                    0.0   \n",
            "2             0.0                0.0                    0.0   \n",
            "3             0.0                0.0                    0.0   \n",
            "4             0.0                0.0                    0.0   \n",
            "\n",
            "   Produk_Washing Machine  Produk_Water Purifier  Produk_Webcam  \\\n",
            "0                     0.0                    0.0            0.0   \n",
            "1                     0.0                    0.0            0.0   \n",
            "2                     0.0                    0.0            0.0   \n",
            "3                     0.0                    0.0            0.0   \n",
            "4                     0.0                    0.0            0.0   \n",
            "\n",
            "   Produk_Wind Turbine  \n",
            "0                  0.0  \n",
            "1                  0.0  \n",
            "2                  0.0  \n",
            "3                  0.0  \n",
            "4                  0.0  \n",
            "\n",
            "[5 rows x 62 columns]\n"
          ]
        }
      ]
    },
    {
      "cell_type": "markdown",
      "source": [
        "langkah selanjutnya adalah mengubah kolom kategorikal. Saya memilih fokus hanya pada kolom 'Jenis Kelamin' dan 'Produk' untuk di-encode menggunakan OneHotEncoder karena keduanya bersifat nominal (tanpa tingkatan/urutan). Metode ini bekerja dengan membuat kolom biner (0 atau 1) untuk setiap kategori (misalnya 'Produk_Coffee Maker'), yang mana efektif menghindari bias dalam model. Sementara itu, kolom object lain seperti 'ID Pelanggan' dan 'Nama' yang berfungsi sebagai identitas unik saya abaikan karena terlalu unik di setiap baris dan tidak memiliki nilai prediktif."
      ],
      "metadata": {
        "id": "sMGND6XAs13_"
      }
    },
    {
      "cell_type": "markdown",
      "source": [
        "# **Feature engineering**"
      ],
      "metadata": {
        "id": "6MCFLytou7yH"
      }
    },
    {
      "cell_type": "code",
      "source": [
        "pd.options.display.float_format = '{:.1f}'.format\n",
        "df['Efisiensi Kepuasan'] = df['Tingkat Kepuasan'] / df['Jumlah']\n",
        "\n",
        "print(\"Efisiensi Kepuasan\")\n",
        "print(df[['Jumlah', 'Tingkat Kepuasan', 'Efisiensi Kepuasan']].head(10))"
      ],
      "metadata": {
        "id": "5AHl8nLaIjIJ",
        "colab": {
          "base_uri": "https://localhost:8080/"
        },
        "outputId": "0e5890cf-4810-4c24-e186-9d5c9723a2a5"
      },
      "execution_count": null,
      "outputs": [
        {
          "output_type": "stream",
          "name": "stdout",
          "text": [
            "Efisiensi Kepuasan\n",
            "   Jumlah  Tingkat Kepuasan  Efisiensi Kepuasan\n",
            "0       2                 1                 0.5\n",
            "1       2                 3                 1.5\n",
            "2       1                 4                 4.0\n",
            "3       3                 3                 1.0\n",
            "4       1                 4                 4.0\n",
            "5       2                 3                 1.5\n",
            "6       1                 2                 2.0\n",
            "7       3                 1                 0.3\n",
            "8       4                 5                 1.2\n",
            "9       2                 4                 2.0\n"
          ]
        }
      ]
    },
    {
      "cell_type": "markdown",
      "source": [
        "saya lanjut ke Feature Engineering untuk membuat fitur baru yang lebih kuat. Fitur yang saya ciptakan adalah 'Efisiensi Kepuasan', yang dihitung dari rasio 'Tingkat Kepuasan' dibagi dengan 'Jumlah' produk yang dibeli. Tujuannya sederhana: fitur ini mengukur seberapa puas pelanggan per unit barang yang mereka dapat. Angka ini jauh lebih berharga daripada hanya melihat skor kepuasan, karena ia menunjukkan nilai kepuasan yang sesungguhnya secara proporsional. Dengan adanya 'Efisiensi Kepuasan', model kita akan lebih akurat dalam memprediksi loyalitas karena dapat membedakan antara kepuasan yang tinggi dari pembelian sedikit, versus kepuasan sedang dari pembelian banyak."
      ],
      "metadata": {
        "id": "F1yWruH7uihf"
      }
    },
    {
      "cell_type": "markdown",
      "source": [
        "# **SPLIT DATA**"
      ],
      "metadata": {
        "id": "EnchIqeYu0-f"
      }
    },
    {
      "cell_type": "code",
      "source": [
        "from sklearn.model_selection import train_test_split\n",
        "\n",
        "X = df[[\n",
        "    'Jumlah',\n",
        "    'Jenis Kelamin',\n",
        "    'Produk',\n",
        "    'Efisiensi Kepuasan'\n",
        "]]\n",
        "\n",
        "y = df['Tingkat Kepuasan']\n",
        "\n",
        "X_train, X_test, y_train, y_test = train_test_split(\n",
        "    X, y, test_size=0.2, random_state=42, stratify=y\n",
        ")\n",
        "\n",
        "print(\"Jumlah data training :\", X_train.shape[0])\n",
        "print(\"Jumlah data testing  :\", X_test.shape[0])\n",
        "print(f\"Fitur yang digunakan (X): {X.columns.tolist()}\")"
      ],
      "metadata": {
        "id": "NbDShF_BcWTo",
        "colab": {
          "base_uri": "https://localhost:8080/"
        },
        "outputId": "a0e83e32-b915-4311-9b3d-cc295d255456"
      },
      "execution_count": null,
      "outputs": [
        {
          "output_type": "stream",
          "name": "stdout",
          "text": [
            "Jumlah data training : 40000\n",
            "Jumlah data testing  : 10000\n",
            "Fitur yang digunakan (X): ['Jumlah', 'Jenis Kelamin', 'Produk', 'Efisiensi Kepuasan']\n"
          ]
        }
      ]
    },
    {
      "cell_type": "markdown",
      "source": [
        "di sini saya membagi data menjadi dua set untuk pelatihan dan pengujian model. Kolom 'Tingkat Kepuasan' saya tetapkan sebagai Label (y) yang akan diprediksi, sementara 'Jumlah', 'Jenis Kelamin', 'Produk', dan 'Efisiensi Kepuasan' dijadikan Fitur (X). Saya menggunakan fungsi train_test_split untuk memisahkan data menjadi 80% training (40.000 baris) dan 20% testing (10.000 baris). Hal terpenting, saya menyertakan parameter stratify=y untuk memastikan bahwa pembagian data tetap seimbang. sehingga evaluasi model kita nanti jadi lebih valid dan representatif."
      ],
      "metadata": {
        "id": "0rulyn2Kv_gn"
      }
    },
    {
      "cell_type": "markdown",
      "source": [
        "### **POSTTEST 4**"
      ],
      "metadata": {
        "id": "OMZ1Kl9-ZDRI"
      }
    },
    {
      "cell_type": "markdown",
      "source": [
        "### SVC"
      ],
      "metadata": {
        "id": "BeNvrY7eZHCf"
      }
    },
    {
      "cell_type": "code",
      "source": [
        "from sklearn.model_selection import train_test_split\n",
        "from sklearn.preprocessing import LabelEncoder, OneHotEncoder\n",
        "from sklearn.compose import ColumnTransformer\n"
      ],
      "metadata": {
        "id": "u0m6-kgS-yMD"
      },
      "execution_count": null,
      "outputs": []
    },
    {
      "cell_type": "markdown",
      "source": [
        "Kode ini bertujuan untuk mengimpor beberapa library penting dari scikit-learn (sklearn) yang berfungsi untuk menyiapkan dataset sebelum dimasukkan ke dalam model machine learning."
      ],
      "metadata": {
        "id": "P5Es68OELSXb"
      }
    },
    {
      "cell_type": "code",
      "source": [
        "X = df[['Jumlah', 'Jenis Kelamin', 'Produk', 'Efisiensi Kepuasan']]\n",
        "y = df['Tingkat Kepuasan']"
      ],
      "metadata": {
        "id": "D8feBJdqAc4S"
      },
      "execution_count": null,
      "outputs": []
    },
    {
      "cell_type": "markdown",
      "source": [
        "Kode ini untuk memisahkan dataset menjadi dua bagian: fitur (variabel independen) yang akan digunakan untuk belajar, dan target (variabel dependen) yang ingin kita prediksi."
      ],
      "metadata": {
        "id": "s8q2hCHDLdMH"
      }
    },
    {
      "cell_type": "code",
      "source": [
        "le = LabelEncoder()\n",
        "y_encoded = le.fit_transform(y)\n"
      ],
      "metadata": {
        "id": "gGDyVbs3Ahi7"
      },
      "execution_count": null,
      "outputs": []
    },
    {
      "cell_type": "markdown",
      "source": [
        "untuk mengubah kolom target (y), yang berisi data teks, menjadi format numerik yang dapat dipahami oleh model machine learning. Proses ini disebut Label Encoding"
      ],
      "metadata": {
        "id": "Z4yQyZhILpCw"
      }
    },
    {
      "cell_type": "code",
      "source": [
        "transformer = ColumnTransformer([\n",
        "    ('onehot', OneHotEncoder(handle_unknown='ignore'), ['Jenis Kelamin', 'Produk'])\n",
        "], remainder='passthrough')\n",
        "\n",
        "X_encoded = transformer.fit_transform(X)\n",
        "print(\"Fitur kategorikal (X) telah di-encode.\")"
      ],
      "metadata": {
        "colab": {
          "base_uri": "https://localhost:8080/"
        },
        "id": "oMYQCAuAArhk",
        "outputId": "483179e2-8130-4366-bcc8-33cc5250c8fc"
      },
      "execution_count": null,
      "outputs": [
        {
          "output_type": "stream",
          "name": "stdout",
          "text": [
            "Fitur kategorikal (X) telah di-encode.\n"
          ]
        }
      ]
    },
    {
      "cell_type": "markdown",
      "source": [
        " untuk menangani dataset dengan tipe data campuran (ada kolom angka dan kolom teks). Tujuannya adalah mengubah semua fitur X menjadi format numerik"
      ],
      "metadata": {
        "id": "9Ghcor49L1lX"
      }
    },
    {
      "cell_type": "code",
      "source": [
        "X_train, X_test, y_train, y_test, train_indices, test_indices = train_test_split(\n",
        "    X_encoded, y_encoded, y.index, test_size=0.2, random_state=42\n",
        ")\n",
        "\n",
        "print(f\"Data siap: {X_train.shape[0]} baris untuk training, {X_test.shape[0]} baris untuk testing.\")"
      ],
      "metadata": {
        "colab": {
          "base_uri": "https://localhost:8080/"
        },
        "id": "UYUJOZt4Axmn",
        "outputId": "7f349703-0f9b-471e-b73b-8ccc7c295736"
      },
      "execution_count": null,
      "outputs": [
        {
          "output_type": "stream",
          "name": "stdout",
          "text": [
            "Data siap: 40000 baris untuk training, 10000 baris untuk testing.\n"
          ]
        }
      ]
    },
    {
      "cell_type": "markdown",
      "source": [
        "untuk membagi dataset yang sudah di-encode menjadi dua set terpisah: satu untuk melatih model dan satu lagi untuk menguji performanya."
      ],
      "metadata": {
        "id": "B9xz6wmKMFvO"
      }
    },
    {
      "cell_type": "code",
      "source": [
        "from sklearn.svm import SVC\n",
        "from sklearn.metrics import classification_report, confusion_matrix\n",
        "\n",
        "print(\"--- SUPPORT VECTOR CLASSIFIER (SVC) ---\")\n",
        "\n",
        "model_svc = SVC(random_state=42)\n",
        "model_svc.fit(X_train, y_train)\n",
        "print(\"Model SVC berhasil dilatih.\")"
      ],
      "metadata": {
        "colab": {
          "base_uri": "https://localhost:8080/"
        },
        "id": "atSYhuMRA61h",
        "outputId": "1c8edd28-0e64-4c6f-ba98-33fe538a00d5"
      },
      "execution_count": null,
      "outputs": [
        {
          "output_type": "stream",
          "name": "stdout",
          "text": [
            "--- SUPPORT VECTOR CLASSIFIER (SVC) ---\n",
            "Model SVC berhasil dilatih.\n"
          ]
        }
      ]
    },
    {
      "cell_type": "markdown",
      "source": [
        "Pertama, mengimpor SVC dari sklearn.svm sebagai algoritma utama, beserta classification_report dan confusion_matrix yang akan digunakan untuk mengevaluasi performa model nanti. Selanjutnya, membuat sebuah instance atau objek model SVC yang masih kosong. Perintah model_svc.fit(X_train, y_train) adalah langkah krusial di mana kita melatih model tersebut. Dengan memberikan data fitur latih (X_train) dan target latih (y_train), model akan belajar untuk menemukan pola dan batas keputusan terbaik untuk memisahkan kategori-kategori yang ada, sehingga nantinya siap digunakan untuk membuat prediksi."
      ],
      "metadata": {
        "id": "FbBpak0oMSAH"
      }
    },
    {
      "cell_type": "code",
      "source": [
        "y_pred_svc = model_svc.predict(X_test)"
      ],
      "metadata": {
        "id": "cWAy3ZkQBH6Q"
      },
      "execution_count": null,
      "outputs": []
    },
    {
      "cell_type": "markdown",
      "source": [
        "Setelah model berhasil dilatih, langkah selanjutnya adalah menggunakannya untuk membuat prediksi pada data yang belum pernah ia lihat sebelumnya. Kode ini menggunakan metode .predict() untuk memberikan \"ujian\" kepada model SVC yang sudah terlatih."
      ],
      "metadata": {
        "id": "Amjt69bxMr-8"
      }
    },
    {
      "cell_type": "markdown",
      "source": [
        "### RANDOM FOREST"
      ],
      "metadata": {
        "id": "u_vKf4cvmAAG"
      }
    },
    {
      "cell_type": "code",
      "source": [
        "from sklearn.ensemble import RandomForestClassifier\n",
        "\n",
        "print(\"--- MODEL 2: RANDOM FOREST ---\")\n"
      ],
      "metadata": {
        "id": "4jDeIiULre_R",
        "colab": {
          "base_uri": "https://localhost:8080/"
        },
        "outputId": "15274afd-a553-4fdf-e262-b2c9b006cc99"
      },
      "execution_count": null,
      "outputs": [
        {
          "output_type": "stream",
          "name": "stdout",
          "text": [
            "--- MODEL 2: RANDOM FOREST ---\n"
          ]
        }
      ]
    },
    {
      "cell_type": "markdown",
      "source": [
        "Kode ini bertujuan untuk memperkenalkan dan mempersiapkan model klasifikasi kedua, yaitu Random Forest. Baris pertama mengimpor RandomForestClassifier dari modul ensemble di scikit-learn."
      ],
      "metadata": {
        "id": "ldQJdlygM92M"
      }
    },
    {
      "cell_type": "code",
      "source": [
        "model_rf = RandomForestClassifier(random_state=42)\n",
        "model_rf.fit(X_train, y_train)\n",
        "print(\"Model Random Forest berhasil dilatih.\")\n"
      ],
      "metadata": {
        "colab": {
          "base_uri": "https://localhost:8080/"
        },
        "id": "fsXDcWghBzuf",
        "outputId": "2a4704eb-3e2c-4e20-d232-fb3699a2c587"
      },
      "execution_count": null,
      "outputs": [
        {
          "output_type": "stream",
          "name": "stdout",
          "text": [
            "Model Random Forest berhasil dilatih.\n"
          ]
        }
      ]
    },
    {
      "cell_type": "markdown",
      "source": [
        "Pertama, membuat sebuah instance model RandomForestClassifier yang masih kosong, di mana random_state=42 digunakan untuk memastikan hasil yang konsisten setiap kali kode dijalankan. Selanjutnya, perintah model_rf.fit(X_train, y_train) adalah tahap pelatihan yang sebenarnya."
      ],
      "metadata": {
        "id": "Erl3FcHpNH3E"
      }
    },
    {
      "cell_type": "code",
      "source": [
        "y_pred_rf = model_rf.predict(X_test)"
      ],
      "metadata": {
        "id": "-zYx3Q6MB5Ka"
      },
      "execution_count": null,
      "outputs": []
    },
    {
      "cell_type": "markdown",
      "source": [
        "Setelah model Random Forest berhasil dilatih, kode ini digunakan untuk menguji kemampuannya."
      ],
      "metadata": {
        "id": "WuHZcQbBNwr5"
      }
    },
    {
      "cell_type": "markdown",
      "source": [
        "### **EVALUASI MODEL**"
      ],
      "metadata": {
        "id": "kAVsiCdSCDek"
      }
    },
    {
      "cell_type": "markdown",
      "source": [
        "### SVC"
      ],
      "metadata": {
        "id": "7IzGUlYnCL2A"
      }
    },
    {
      "cell_type": "code",
      "source": [
        "\n",
        "print(\"--- Classification Report SVC ---\")\n",
        "\n",
        "target_names_str = [str(cls) for cls in le.classes_]\n",
        "print(classification_report(y_test, y_pred_svc, target_names=target_names_str, zero_division=0))"
      ],
      "metadata": {
        "colab": {
          "base_uri": "https://localhost:8080/"
        },
        "id": "RYtBiYXeB8vh",
        "outputId": "ecc32883-653c-4b7c-84ad-3675f1298af8"
      },
      "execution_count": null,
      "outputs": [
        {
          "output_type": "stream",
          "name": "stdout",
          "text": [
            "--- Classification Report SVC ---\n",
            "              precision    recall  f1-score   support\n",
            "\n",
            "           1       0.99      1.00      1.00      1995\n",
            "           2       1.00      0.99      0.99      2012\n",
            "           3       0.99      1.00      1.00      1978\n",
            "           4       1.00      0.99      0.99      2044\n",
            "           5       1.00      1.00      1.00      1971\n",
            "\n",
            "    accuracy                           1.00     10000\n",
            "   macro avg       1.00      1.00      1.00     10000\n",
            "weighted avg       1.00      1.00      1.00     10000\n",
            "\n"
          ]
        }
      ]
    },
    {
      "cell_type": "markdown",
      "source": [
        "Kode ini bertujuan untuk menampilkan Classification Report, yaitu sebuah laporan teks terperinci yang merangkum performa model SVC. Fungsi inti classification_report bekerja dengan membandingkan \"kunci jawaban\" (y_test) dengan \"lembar jawaban\" dari model (y_pred_svc). Laporan ini akan menampilkan metrik-metrik penting seperti precision, recall, dan f1-score untuk setiap kategori target, yang sangat berguna untuk memahami kekuatan dan kelemahan model secara detail. Baris target_names_str = [str(cls) for cls in le.classes_] adalah langkah persiapan penting untuk memastikan nama-nama kategori (misalnya '2', '3', '4') ditampilkan dengan benar di dalam laporan, sementara zero_division=0 berfungsi untuk mencegah error jika ada pembagian dengan angka nol selama kalkulasi metrik."
      ],
      "metadata": {
        "id": "GuCs3ezGN0R1"
      }
    },
    {
      "cell_type": "code",
      "source": [
        "from sklearn.metrics import confusion_matrix\n",
        "\n",
        "cm_svc = confusion_matrix(y_test, y_pred_svc)\n",
        "\n",
        "plt.figure(figsize=(8, 6))\n",
        "sns.heatmap(\n",
        "    cm_svc,\n",
        "    annot=True,\n",
        "    fmt='d',\n",
        "    cmap='Reds',\n",
        "    xticklabels=le.classes_,\n",
        "    yticklabels=le.classes_\n",
        ")\n",
        "\n",
        "plt.title('Diagram Confusion Matrix - Model SVC', fontsize=14)\n",
        "plt.ylabel('Label Aktual', fontsize=12)\n",
        "plt.xlabel('Label Prediksi', fontsize=12)\n",
        "plt.show()"
      ],
      "metadata": {
        "colab": {
          "base_uri": "https://localhost:8080/",
          "height": 569
        },
        "id": "ud6x1aJeDRrE",
        "outputId": "e3609991-849d-4fca-9307-6278cba4c558"
      },
      "execution_count": null,
      "outputs": [
        {
          "output_type": "display_data",
          "data": {
            "text/plain": [
              "<Figure size 800x600 with 2 Axes>"
            ],
            "image/png": "[encoded data removed]"
          },
          "metadata": {}
        }
      ]
    },
    {
      "cell_type": "markdown",
      "source": [
        "Kode ini bertujuan untuk memvisualisasikan hasil dari Confusion Matrix dalam bentuk heatmap (peta panas) yang mudah dibaca.\n",
        "\n",
        "\n",
        "Sumbu Y (vertikal) merepresentasikan kelas aktual dari setiap data, sementara sumbu X (horizontal) merepresentasikan kelas yang diprediksi oleh model. Angka-angka yang berada di sepanjang garis diagonal dari kiri atas ke kanan bawah menunjukkan jumlah prediksi yang benar, di mana kelas aktual sama dengan kelas prediksi. Sebaliknya, angka-angka yang berada di luar diagonal menunjukkan jumlah prediksi yang salah. Dengan demikian, performa model dianggap baik jika nilai pada sel-sel diagonal tinggi dan nilai pada sel-sel di luar diagonal rendah."
      ],
      "metadata": {
        "id": "Ju6Wt_HEOHL_"
      }
    },
    {
      "cell_type": "markdown",
      "source": [
        "### RANDOM FOREST"
      ],
      "metadata": {
        "id": "hISCnDKVCaoo"
      }
    },
    {
      "cell_type": "code",
      "source": [
        "\n",
        "print(\"--- Classification Report Random Forest ---\")\n",
        "\n",
        "target_names_str = [str(cls) for cls in le.classes_]\n",
        "print(classification_report(y_test, y_pred_rf, target_names=target_names_str, zero_division=0))"
      ],
      "metadata": {
        "colab": {
          "base_uri": "https://localhost:8080/"
        },
        "id": "MXh0NPacCVws",
        "outputId": "f5482c61-e2e0-41e7-e5bc-4013916c967a"
      },
      "execution_count": null,
      "outputs": [
        {
          "output_type": "stream",
          "name": "stdout",
          "text": [
            "--- Classification Report Random Forest ---\n",
            "              precision    recall  f1-score   support\n",
            "\n",
            "           1       1.00      1.00      1.00      1995\n",
            "           2       1.00      1.00      1.00      2012\n",
            "           3       1.00      1.00      1.00      1978\n",
            "           4       1.00      1.00      1.00      2044\n",
            "           5       1.00      1.00      1.00      1971\n",
            "\n",
            "    accuracy                           1.00     10000\n",
            "   macro avg       1.00      1.00      1.00     10000\n",
            "weighted avg       1.00      1.00      1.00     10000\n",
            "\n"
          ]
        }
      ]
    },
    {
      "cell_type": "markdown",
      "source": [
        "Kode ini bertujuan untuk mengevaluasi performa model Random Forest dengan menampilkan Classification Report yang terperinci. Fungsi classification_report bekerja dengan membandingkan label target yang sebenarnya (y_test) dengan label yang diprediksi oleh model Random Forest (y_pred_rf). Laporan yang dihasilkan akan merangkum metrik-metrik performa kunci seperti precision, recall, dan f1-score untuk setiap kategori target. Baris target_names_str adalah langkah persiapan untuk memastikan nama-nama kelas ditampilkan dengan benar dalam laporan, sementara parameter zero_division=0 digunakan untuk menangani kasus di mana tidak ada prediksi untuk kelas tertentu, sehingga mencegah error. Secara keseluruhan, laporan ini memberikan gambaran yang jelas tentang seberapa baik model Random Forest dalam melakukan klasifikasi."
      ],
      "metadata": {
        "id": "EUl6s8wcOySG"
      }
    },
    {
      "cell_type": "code",
      "source": [
        "\n",
        "cm_rf = confusion_matrix(y_test, y_pred_rf)\n",
        "\n",
        "plt.figure(figsize=(8, 6))\n",
        "sns.heatmap(\n",
        "    cm_rf,\n",
        "    annot=True,\n",
        "    fmt='d',\n",
        "    cmap='Reds',\n",
        "    xticklabels=le.classes_,\n",
        "    yticklabels=le.classes_\n",
        ")\n",
        "\n",
        "plt.title('Diagram Confusion Matrix - Model Random Forest', fontsize=14)\n",
        "plt.ylabel('Label Aktual', fontsize=12)\n",
        "plt.xlabel('Label Prediksi', fontsize=12)\n",
        "plt.show()"
      ],
      "metadata": {
        "colab": {
          "base_uri": "https://localhost:8080/",
          "height": 569
        },
        "id": "Kt2WCBeODpXK",
        "outputId": "674c8f28-3acb-46bf-e962-d411de2af0bb"
      },
      "execution_count": null,
      "outputs": [
        {
          "output_type": "display_data",
          "data": {
            "text/plain": [
              "<Figure size 800x600 with 2 Axes>"
            ],
            "image/png": "[encoded data removed]"
          },
          "metadata": {}
        }
      ]
    },
    {
      "cell_type": "markdown",
      "source": [
        "Pertama, fungsi confusion_matrix membandingkan label asli (y_test) dengan label prediksi (y_pred_rf) untuk menghasilkan sebuah matriks performa. Kemudian, seaborn.heatmap digunakan untuk menggambar matriks tersebut sebagai peta panas yang informatif, di mana parameter annot=True memastikan nilai numerik ditampilkan di setiap sel. Untuk membacanya, sumbu Y (vertikal) menunjukkan kelas aktual dan sumbu X (horizontal) menunjukkan kelas prediksi. Angka di sepanjang garis diagonal adalah jumlah prediksi yang benar, sedangkan angka di luar diagonal adalah jumlah prediksi yang salah. Dengan demikian, model dianggap performanya baik jika nilai pada diagonal tinggi dan nilai di luar diagonal rendah."
      ],
      "metadata": {
        "id": "QP38vF1yPSSo"
      }
    },
    {
      "cell_type": "markdown",
      "source": [
        "### **PLOT HASIL PREDIKSI**"
      ],
      "metadata": {
        "id": "WOy6bOKEE0Ht"
      }
    },
    {
      "cell_type": "markdown",
      "source": [
        "### SVR"
      ],
      "metadata": {
        "id": "g81Q9o4HE70k"
      }
    },
    {
      "cell_type": "code",
      "source": [
        "import matplotlib.pyplot as plt\n",
        "import seaborn as sns\n",
        "from sklearn.metrics import confusion_matrix\n",
        "\n",
        "df_test_svc = df.loc[test_indices].copy()\n",
        "df_test_svc['Tingkat Kepuasan Aktual'] = le.inverse_transform(y_test)\n",
        "df_test_svc['Prediksi SVC'] = le.inverse_transform(y_pred_svc)\n",
        "\n",
        "\n",
        "print(\"\\n--- Plot Point Plus: Perbandingan Aktual vs Prediksi SVC ---\")\n",
        "fig, axes = plt.subplots(1, 2, figsize=(16, 7))\n",
        "fig.suptitle('Visualisasi Perbandingan Titik Aktual vs Prediksi SVC', fontsize=16)\n",
        "\n",
        "sns.scatterplot(ax=axes[0], data=df_test_svc, x='Efisiensi Kepuasan', y='Jumlah', hue='Tingkat Kepuasan Aktual', palette='viridis')\n",
        "axes[0].set_title('Label Aktual')\n",
        "\n",
        "\n",
        "sns.scatterplot(ax=axes[1], data=df_test_svc, x='Efisiensi Kepuasan', y='Jumlah', hue='Prediksi SVC', palette='viridis')\n",
        "axes[1].set_title('Label Prediksi SVC')\n",
        "\n",
        "plt.show()"
      ],
      "metadata": {
        "colab": {
          "base_uri": "https://localhost:8080/",
          "height": 724
        },
        "id": "zfhH1VhxFECK",
        "outputId": "dde768dd-eef1-4461-dd4e-569604b1ec3e"
      },
      "execution_count": 69,
      "outputs": [
        {
          "output_type": "stream",
          "name": "stdout",
          "text": [
            "\n",
            "--- Plot Point Plus: Perbandingan Aktual vs Prediksi SVC ---\n"
          ]
        },
        {
          "output_type": "display_data",
          "data": {
            "text/plain": [
              "<Figure size 1600x700 with 2 Axes>"
            ],
            "image/png": "[encoded data removed]"
          },
          "metadata": {}
        }
      ]
    },
    {
      "cell_type": "markdown",
      "source": [
        "Kode ini bertujuan untuk membuat visualisasi perbandingan secara langsung antara data asli dan hasil prediksi dari model SVC. Pertama, kode ini menyiapkan sebuah DataFrame baru, df_test_svc, yang secara spesifik berisi data uji dari DataFrame asli. Ke dalam DataFrame ini, ditambahkan dua kolom baru: satu untuk label Tingkat Kepuasan Aktual yang merupakan jawaban sebenarnya, dan satu lagi untuk Prediksi SVC yang merupakan tebakan dari model, di mana keduanya telah diubah kembali ke format teks agar mudah dibaca. Selanjutnya, kode ini membuat sebuah kanvas yang berisi dua plot scatterplot berdampingan. Plot di sebelah kiri memvisualisasikan data dengan pewarnaan berdasarkan kategori aktual (kebenaran), sementara plot di sebelah kanan menggunakan pewarnaan berdasarkan kategori prediksi (tebakan model). Dengan membandingkan kedua plot ini secara visual, kita dapat dengan mudah mengidentifikasi di mana saja prediksi model sama dengan atau berbeda dari kenyataan, sehingga memberikan evaluasi performa yang sangat intuitif."
      ],
      "metadata": {
        "id": "ofMob-zoP2rl"
      }
    },
    {
      "cell_type": "markdown",
      "source": [
        "Diagram ini adalah visualisasi untuk membandingkan secara langsung antara \"kebenaran\" dengan \"tebakan model\". Plot di sebelah kiri adalah Label Aktual, yang berfungsi sebagai kunci jawaban; setiap titik diwarnai sesuai dengan kategori aslinya. Plot di sebelah kanan adalah Label Prediksi, di mana posisi titiknya sama persis, tetapi warnanya ditentukan oleh hasil tebakan model. Cara membacanya adalah dengan membandingkan kedua plot: jika warna sebuah titik sama di kedua sisi, berarti prediksi model untuk data tersebut benar. Sebaliknya, jika warna sebuah titik berubah dari plot kiri ke plot kanan, berarti prediksi model untuk data tersebut salah. Semakin mirip kedua plot tersebut, semakin tinggi akurasi model Anda."
      ],
      "metadata": {
        "id": "yuvsDh2jP6df"
      }
    },
    {
      "cell_type": "markdown",
      "source": [
        "### RANDOM FOREST"
      ],
      "metadata": {
        "id": "e5Hex1MwE_k2"
      }
    },
    {
      "cell_type": "code",
      "source": [
        "\n",
        "df_test_rf = df.loc[test_indices].copy()\n",
        "df_test_rf['Tingkat Kepuasan Aktual'] = le.inverse_transform(y_test)\n",
        "df_test_rf['Prediksi RF'] = le.inverse_transform(y_pred_rf)\n",
        "\n",
        "print(\"\\n--- Plot Point Plus: Perbandingan Aktual vs Prediksi Random Forest ---\")\n",
        "fig, axes = plt.subplots(1, 2, figsize=(16, 7))\n",
        "fig.suptitle('Visualisasi Perbandingan Titik Aktual vs Prediksi Random Forest', fontsize=16)\n",
        "\n",
        "\n",
        "sns.scatterplot(ax=axes[0], data=df_test_rf, x='Efisiensi Kepuasan', y='Jumlah', hue='Tingkat Kepuasan Aktual', palette='plasma')\n",
        "axes[0].set_title('Label Aktual')\n",
        "\n",
        "\n",
        "sns.scatterplot(ax=axes[1], data=df_test_rf, x='Efisiensi Kepuasan', y='Jumlah', hue='Prediksi RF', palette='plasma')\n",
        "axes[1].set_title('Label Prediksi Random Forest')\n",
        "\n",
        "plt.show()"
      ],
      "metadata": {
        "colab": {
          "base_uri": "https://localhost:8080/",
          "height": 724
        },
        "id": "OnvndKioCj_V",
        "outputId": "ee6ec468-1608-402d-fff4-d92e68ed9fca"
      },
      "execution_count": 71,
      "outputs": [
        {
          "output_type": "stream",
          "name": "stdout",
          "text": [
            "\n",
            "--- Plot Point Plus: Perbandingan Aktual vs Prediksi Random Forest ---\n"
          ]
        },
        {
          "output_type": "display_data",
          "data": {
            "text/plain": [
              "<Figure size 1600x700 with 2 Axes>"
            ],
            "image/png": "[encoded data removed]"
          },
          "metadata": {}
        }
      ]
    },
    {
      "cell_type": "markdown",
      "source": [
        "Kode ini bertujuan untuk memvisualisasikan perbandingan antara data asli dan hasil prediksi dari model Random Forest. Pertama, kode ini menyiapkan DataFrame baru df_test_rf yang berisi data uji, lalu menambahkan kolom untuk label aktual (kebenaran) dan label prediksi (tebakan model) yang sudah diubah kembali ke format teks. Setelah itu, kode ini membuat sebuah kanvas dengan dua plot scatterplot berdampingan. Plot di sebelah kiri menampilkan sebaran data yang diwarnai berdasarkan label aktual, sementara plot di sebelah kanan menampilkan sebaran data yang sama persis namun diwarnai berdasarkan label prediksi dari model Random Forest, sehingga memungkinkan perbandingan visual secara langsung."
      ],
      "metadata": {
        "id": "4PFwcaRdQb5I"
      }
    },
    {
      "cell_type": "markdown",
      "source": [
        "Untuk membaca diagram ini, perlu membandingkan kedua plot secara berdampingan. Plot di sebelah kiri (Label Aktual) adalah \"kunci jawaban\" yang menunjukkan warna asli dari setiap kategori data. Plot di sebelah kanan (Label Prediksi) adalah \"lembar jawaban model\" yang menunjukkan warna berdasarkan tebakan model. Performa model dievaluasi dengan mencari perbedaan warna pada titik yang sama di kedua plot. Jika warna sebuah titik sama, maka prediksi model untuk titik itu benar. Jika warnanya berubah, maka prediksi model salah. Semakin identik kedua plot tersebut, semakin akurat performa model Anda."
      ],
      "metadata": {
        "id": "zWRd4BZEQd1F"
      }
    },
    {
      "cell_type": "code",
      "source": [],
      "metadata": {
        "id": "MGMn9dJdIjKP"
      },
      "execution_count": null,
      "outputs": []
    }
  ]
}